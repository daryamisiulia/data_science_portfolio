{
 "cells": [
  {
   "cell_type": "markdown",
   "metadata": {},
   "source": [
    "# Fake-Real News Detection"
   ]
  },
  {
   "cell_type": "markdown",
   "metadata": {},
   "source": [
    "Darya Misiulia"
   ]
  },
  {
   "cell_type": "markdown",
   "metadata": {},
   "source": [
    "### Project legend"
   ]
  },
  {
   "cell_type": "markdown",
   "metadata": {},
   "source": [
    "- Introduction and Data Description\n",
    "- Missing Values\n",
    "- Explorary Data Analysis\n",
    "- Text Pre-processing\n",
    "- Multinomial Naive Bayes Model\n",
    "- LSTM\n",
    "- Bidirectional LSTM\n",
    "- Conclusions\n",
    "- Sources"
   ]
  },
  {
   "cell_type": "markdown",
   "metadata": {},
   "source": [
    "## Introduction"
   ]
  },
  {
   "cell_type": "markdown",
   "metadata": {},
   "source": [
    "Fake news is the inclusion of information that leads people astray. Fake news is currently spreading like water and people are sharing this information without verifying it. This is often done to promote or impose certain ideas, and is often achieved through political programs."
   ]
  },
  {
   "cell_type": "markdown",
   "metadata": {},
   "source": [
    "In this project I am going to try to determine if the news is real or face. Dataset has around 10,000 piece of news article scraped from **Politifact** (https://www.politifact.com/) website."
   ]
  },
  {
   "cell_type": "markdown",
   "metadata": {},
   "source": [
    "## Data Description"
   ]
  },
  {
   "cell_type": "markdown",
   "metadata": {},
   "source": [
    "The dataset is having 6 attributes among which **News_Headline** is the most important to us in order to classify news as FALSE or TRUE."
   ]
  },
  {
   "cell_type": "markdown",
   "metadata": {},
   "source": [
    "**News_Headline** - contains piece of information that has to be analysed.\n",
    "\n",
    "**Link_Of_News** - contains url of News Headlines specified in very first column.\n",
    "\n",
    "**Source** - this column contains author names who has posted the information on facebook, instagram, twitter or any other social-\n",
    "media platform.\n",
    "\n",
    "**Stated_On** - this column contains date when the information is posted by the authors on different social-media platforms.\n",
    "\n",
    "**Date** - This column contains date when this piece of information is analysed by politifact team of fact-checkers in order to labelize as FAKE or REAL.\n",
    "\n",
    "**Label** - This column contains 5 class labels : True, Mostly-True, Half-True, Barely-True, False, Pants on Fire."
   ]
  },
  {
   "cell_type": "markdown",
   "metadata": {},
   "source": [
    "The **Label** has 6 classes in project I will use this dataset for binary classification(TRUE/FALSE). "
   ]
  },
  {
   "cell_type": "markdown",
   "metadata": {},
   "source": [
    "<p>"
   ]
  },
  {
   "cell_type": "markdown",
   "metadata": {},
   "source": [
    "First of all, I load to memory all necessary packages."
   ]
  },
  {
   "cell_type": "code",
   "execution_count": 4,
   "metadata": {
    "scrolled": true
   },
   "outputs": [
    {
     "name": "stderr",
     "output_type": "stream",
     "text": [
      "[nltk_data] Downloading package stopwords to\n",
      "[nltk_data]     C:\\Users\\Xiaomi\\AppData\\Roaming\\nltk_data...\n",
      "[nltk_data]   Package stopwords is already up-to-date!\n"
     ]
    }
   ],
   "source": [
    "#Importing Libraries\n",
    "\n",
    "import unidecode #Unidecode()remove accented characters from text\n",
    "import pandas as pd\n",
    "import matplotlib.pyplot as plt\n",
    "import seaborn as sns\n",
    "import re #remove whitespaces\n",
    "import time\n",
    "import nltk\n",
    "import warnings\n",
    "import string\n",
    "import timeit\n",
    "from nltk.corpus import stopwords\n",
    "nltk.download('stopwords')\n",
    "from nltk.tokenize import word_tokenize\n",
    "from nltk.stem import WordNetLemmatizer\n",
    "from sklearn.feature_extraction.text import CountVectorizer\n",
    "from autocorrect import Speller #Spell checker\n",
    "from bs4 import BeautifulSoup\n",
    "from collections import Counter\n",
    "from wordcloud import WordCloud\n",
    "from sklearn.model_selection import train_test_split\n",
    "\n",
    "lemmatizer = nltk.stem.WordNetLemmatizer()\n",
    "tokens = nltk.tokenize.WhitespaceTokenizer()  \n",
    "\n",
    "warnings.filterwarnings('ignore')"
   ]
  },
  {
   "cell_type": "code",
   "execution_count": 61,
   "metadata": {},
   "outputs": [
    {
     "name": "stdout",
     "output_type": "stream",
     "text": [
      "2.6.0\n"
     ]
    }
   ],
   "source": [
    "import tensorflow as tf\n",
    "print(tf.__version__)"
   ]
  },
  {
   "cell_type": "markdown",
   "metadata": {},
   "source": [
    "The dataset was taken from publicly available source Kaggle. Which can be found under following link: https://www.kaggle.com/techykajal/fakereal-news"
   ]
  },
  {
   "cell_type": "markdown",
   "metadata": {},
   "source": [
    "I gonna import the csv file into the notebook."
   ]
  },
  {
   "cell_type": "code",
   "execution_count": 127,
   "metadata": {
    "scrolled": true
   },
   "outputs": [
    {
     "name": "stdout",
     "output_type": "stream",
     "text": [
      "Number of Data points :  9960\n",
      "Number of features : 6\n",
      "features : ['News_Headline' 'Link_Of_News' 'Source' 'Stated_On' 'Date' 'Label']\n"
     ]
    }
   ],
   "source": [
    "#Read Dataset\n",
    "date_df = pd.read_csv('tm_data.csv', encoding = 'latin-1')\n",
    "print('Number of Data points : ', date_df.shape[0])\n",
    "print('Number of features :', date_df.shape[1])\n",
    "print('features :', date_df.columns.values)\n"
   ]
  },
  {
   "cell_type": "code",
   "execution_count": 128,
   "metadata": {},
   "outputs": [
    {
     "data": {
      "text/html": [
       "<div>\n",
       "<style scoped>\n",
       "    .dataframe tbody tr th:only-of-type {\n",
       "        vertical-align: middle;\n",
       "    }\n",
       "\n",
       "    .dataframe tbody tr th {\n",
       "        vertical-align: top;\n",
       "    }\n",
       "\n",
       "    .dataframe thead th {\n",
       "        text-align: right;\n",
       "    }\n",
       "</style>\n",
       "<table border=\"1\" class=\"dataframe\">\n",
       "  <thead>\n",
       "    <tr style=\"text-align: right;\">\n",
       "      <th></th>\n",
       "      <th>News_Headline</th>\n",
       "      <th>Link_Of_News</th>\n",
       "      <th>Source</th>\n",
       "      <th>Stated_On</th>\n",
       "      <th>Date</th>\n",
       "      <th>Label</th>\n",
       "    </tr>\n",
       "  </thead>\n",
       "  <tbody>\n",
       "    <tr>\n",
       "      <th>0</th>\n",
       "      <td>Says Osama bin Laden endorsed Joe Biden</td>\n",
       "      <td>https://www.politifact.com/factchecks/2020/jun...</td>\n",
       "      <td>Donald Trump Jr.</td>\n",
       "      <td>June 18, 2020</td>\n",
       "      <td>June 19, 2020</td>\n",
       "      <td>FALSE</td>\n",
       "    </tr>\n",
       "    <tr>\n",
       "      <th>1</th>\n",
       "      <td>CNN aired a video of a toddler running away fr...</td>\n",
       "      <td>https://www.politifact.com/factchecks/2020/jun...</td>\n",
       "      <td>Donald Trump</td>\n",
       "      <td>June 18, 2020</td>\n",
       "      <td>June 19, 2020</td>\n",
       "      <td>pants-fire</td>\n",
       "    </tr>\n",
       "    <tr>\n",
       "      <th>2</th>\n",
       "      <td>Says Tim Tebow kneeled in protest of abortion...</td>\n",
       "      <td>https://www.politifact.com/factchecks/2020/jun...</td>\n",
       "      <td>Facebook posts</td>\n",
       "      <td>June 12, 2020</td>\n",
       "      <td>June 19, 2020</td>\n",
       "      <td>FALSE</td>\n",
       "    </tr>\n",
       "    <tr>\n",
       "      <th>3</th>\n",
       "      <td>Even so-called moderate Democrats like Joe Bi...</td>\n",
       "      <td>https://www.politifact.com/factchecks/2020/jun...</td>\n",
       "      <td>Paul Junge</td>\n",
       "      <td>June 10, 2020</td>\n",
       "      <td>June 19, 2020</td>\n",
       "      <td>barely-true</td>\n",
       "    </tr>\n",
       "    <tr>\n",
       "      <th>4</th>\n",
       "      <td>\"Our health department, our city and our count...</td>\n",
       "      <td>https://www.politifact.com/factchecks/2020/jun...</td>\n",
       "      <td>Jeanette Kowalik</td>\n",
       "      <td>June 14, 2020</td>\n",
       "      <td>June 18, 2020</td>\n",
       "      <td>TRUE</td>\n",
       "    </tr>\n",
       "  </tbody>\n",
       "</table>\n",
       "</div>"
      ],
      "text/plain": [
       "                                       News_Headline  \\\n",
       "0            Says Osama bin Laden endorsed Joe Biden   \n",
       "1  CNN aired a video of a toddler running away fr...   \n",
       "2  Says Tim Tebow kneeled in protest of abortion...   \n",
       "3  Even so-called moderate Democrats like Joe Bi...   \n",
       "4  \"Our health department, our city and our count...   \n",
       "\n",
       "                                        Link_Of_News            Source  \\\n",
       "0  https://www.politifact.com/factchecks/2020/jun...  Donald Trump Jr.   \n",
       "1  https://www.politifact.com/factchecks/2020/jun...      Donald Trump   \n",
       "2  https://www.politifact.com/factchecks/2020/jun...    Facebook posts   \n",
       "3  https://www.politifact.com/factchecks/2020/jun...        Paul Junge   \n",
       "4  https://www.politifact.com/factchecks/2020/jun...  Jeanette Kowalik   \n",
       "\n",
       "        Stated_On            Date        Label  \n",
       "0   June 18, 2020   June 19, 2020        FALSE  \n",
       "1   June 18, 2020   June 19, 2020   pants-fire  \n",
       "2   June 12, 2020   June 19, 2020        FALSE  \n",
       "3   June 10, 2020   June 19, 2020  barely-true  \n",
       "4   June 14, 2020   June 18, 2020         TRUE  "
      ]
     },
     "execution_count": 128,
     "metadata": {},
     "output_type": "execute_result"
    }
   ],
   "source": [
    "#head of dataset\n",
    "date_df.head()"
   ]
  },
  {
   "cell_type": "markdown",
   "metadata": {},
   "source": [
    "Let's look of the type of data."
   ]
  },
  {
   "cell_type": "code",
   "execution_count": 129,
   "metadata": {},
   "outputs": [
    {
     "name": "stdout",
     "output_type": "stream",
     "text": [
      "<class 'pandas.core.frame.DataFrame'>\n",
      "RangeIndex: 9960 entries, 0 to 9959\n",
      "Data columns (total 6 columns):\n",
      " #   Column         Non-Null Count  Dtype \n",
      "---  ------         --------------  ----- \n",
      " 0   News_Headline  9960 non-null   object\n",
      " 1   Link_Of_News   9960 non-null   object\n",
      " 2   Source         9960 non-null   object\n",
      " 3   Stated_On      9960 non-null   object\n",
      " 4   Date           9960 non-null   object\n",
      " 5   Label          9960 non-null   object\n",
      "dtypes: object(6)\n",
      "memory usage: 467.0+ KB\n"
     ]
    }
   ],
   "source": [
    "date_df.info()"
   ]
  },
  {
   "cell_type": "markdown",
   "metadata": {},
   "source": [
    "The structer of dataset."
   ]
  },
  {
   "cell_type": "code",
   "execution_count": 130,
   "metadata": {},
   "outputs": [
    {
     "data": {
      "text/plain": [
       "(9960, 6)"
      ]
     },
     "execution_count": 130,
     "metadata": {},
     "output_type": "execute_result"
    }
   ],
   "source": [
    "date_df.shape"
   ]
  },
  {
   "cell_type": "markdown",
   "metadata": {},
   "source": [
    "<p>"
   ]
  },
  {
   "cell_type": "markdown",
   "metadata": {},
   "source": [
    "## Missing Values"
   ]
  },
  {
   "cell_type": "markdown",
   "metadata": {},
   "source": [
    "Cheking missing values in each column."
   ]
  },
  {
   "cell_type": "code",
   "execution_count": 131,
   "metadata": {},
   "outputs": [
    {
     "data": {
      "text/plain": [
       "News_Headline    0\n",
       "Link_Of_News     0\n",
       "Source           0\n",
       "Stated_On        0\n",
       "Date             0\n",
       "Label            0\n",
       "dtype: int64"
      ]
     },
     "execution_count": 131,
     "metadata": {},
     "output_type": "execute_result"
    }
   ],
   "source": [
    "#Searching for null values\n",
    "\n",
    "date_df.isna().sum()"
   ]
  },
  {
   "cell_type": "markdown",
   "metadata": {},
   "source": [
    "So data doesn't contain missing values."
   ]
  },
  {
   "cell_type": "markdown",
   "metadata": {},
   "source": [
    "<p>"
   ]
  },
  {
   "cell_type": "markdown",
   "metadata": {},
   "source": [
    "## Explorary Data Analysis"
   ]
  },
  {
   "cell_type": "markdown",
   "metadata": {},
   "source": [
    "Let's check how is look **Label** column."
   ]
  },
  {
   "cell_type": "code",
   "execution_count": 132,
   "metadata": {},
   "outputs": [
    {
     "name": "stdout",
     "output_type": "stream",
     "text": [
      "Label\n",
      "FALSE          2273\n",
      "TRUE           1036\n",
      "barely-true    1737\n",
      "full-flop        70\n",
      "half-flip        27\n",
      "half-true      1685\n",
      "mostly-true    1722\n",
      "no-flip           8\n",
      "pants-fire     1402\n",
      "dtype: int64\n"
     ]
    }
   ],
   "source": [
    "print(date_df.groupby(\"Label\").size())"
   ]
  },
  {
   "cell_type": "markdown",
   "metadata": {},
   "source": [
    "It can be seen that there are several unknown categories, the news of which could not be assigned to one of the 6 categories. Since there is little data in the categories, I decided to delete them."
   ]
  },
  {
   "cell_type": "code",
   "execution_count": 133,
   "metadata": {},
   "outputs": [
    {
     "name": "stdout",
     "output_type": "stream",
     "text": [
      "Label\n",
      "FALSE          2273\n",
      "TRUE           1036\n",
      "barely-true    1737\n",
      "half-true      1685\n",
      "mostly-true    1722\n",
      "pants-fire     1402\n",
      "dtype: int64\n"
     ]
    }
   ],
   "source": [
    "#Delite no-flip,half-flip and full-flop categorize\n",
    "date_df = date_df[date_df['Label'] != 'no-flip']\n",
    "date_df = date_df[date_df['Label'] != 'full-flop']\n",
    "date_df = date_df[date_df['Label'] != 'half-flip']\n",
    "\n",
    "print(date_df.groupby(\"Label\").size())"
   ]
  },
  {
   "cell_type": "markdown",
   "metadata": {},
   "source": [
    "Now let's see on distribution of **Labels**."
   ]
  },
  {
   "cell_type": "code",
   "execution_count": 134,
   "metadata": {},
   "outputs": [
    {
     "data": {
      "image/png": "[encoded data removed]",
      "text/plain": [
       "<Figure size 720x360 with 1 Axes>"
      ]
     },
     "metadata": {},
     "output_type": "display_data"
    }
   ],
   "source": [
    "%matplotlib inline\n",
    "count = date_df[\"Label\"].value_counts()\n",
    "sns.set(style=\"darkgrid\")\n",
    "plt.figure(figsize=(10,5))\n",
    "plots = sns.barplot(count.index, count.values, alpha=0.9)\n",
    "for bar in plots.patches: \n",
    "    plots.annotate(bar.get_height(),\n",
    "                   (bar.get_x() + bar.get_width() / 2,\n",
    "                    bar.get_height()), ha='center', va='center',\n",
    "                   size=10, xytext=(0, 5),\n",
    "                   textcoords='offset points')\n",
    "plt.title('Frequency Distribution of Labels', fontsize = 18)\n",
    "plt.ylabel('Number of News', fontsize = 15)\n",
    "plt.xlabel('Labels', fontsize = 15)\n",
    "plt.show()"
   ]
  },
  {
   "cell_type": "markdown",
   "metadata": {},
   "source": [
    "Also I plot top of news sources."
   ]
  },
  {
   "cell_type": "code",
   "execution_count": 135,
   "metadata": {},
   "outputs": [
    {
     "data": {
      "image/png": "[encoded data removed]",
      "text/plain": [
       "<Figure size 648x360 with 1 Axes>"
      ]
     },
     "metadata": {},
     "output_type": "display_data"
    }
   ],
   "source": [
    "####Most popular Sources########\n",
    "athlete_order = date_df[\"Source\"].value_counts().head(10).index\n",
    "plt.figure(figsize=(9, 5))\n",
    "sns.countplot(data=date_df, y='Source', order=athlete_order)\n",
    "plt.title('Top 10 The Most Popular Sources of News')\n",
    "plt.xlabel('Number of News')\n",
    "plt.ylabel('Source Name');\n",
    "plt.show()"
   ]
  },
  {
   "cell_type": "markdown",
   "metadata": {},
   "source": [
    "The most popular sources - Donald Trump and Facebook posts."
   ]
  },
  {
   "cell_type": "markdown",
   "metadata": {},
   "source": [
    "<p>"
   ]
  },
  {
   "cell_type": "markdown",
   "metadata": {},
   "source": [
    "Since in project I will be using binary classification we convert class Labels into **FALSE** or **TRUE**."
   ]
  },
  {
   "cell_type": "code",
   "execution_count": 136,
   "metadata": {},
   "outputs": [
    {
     "data": {
      "text/html": [
       "<div>\n",
       "<style scoped>\n",
       "    .dataframe tbody tr th:only-of-type {\n",
       "        vertical-align: middle;\n",
       "    }\n",
       "\n",
       "    .dataframe tbody tr th {\n",
       "        vertical-align: top;\n",
       "    }\n",
       "\n",
       "    .dataframe thead th {\n",
       "        text-align: right;\n",
       "    }\n",
       "</style>\n",
       "<table border=\"1\" class=\"dataframe\">\n",
       "  <thead>\n",
       "    <tr style=\"text-align: right;\">\n",
       "      <th></th>\n",
       "      <th>News_Headline</th>\n",
       "      <th>Link_Of_News</th>\n",
       "      <th>Source</th>\n",
       "      <th>Stated_On</th>\n",
       "      <th>Date</th>\n",
       "      <th>Label</th>\n",
       "    </tr>\n",
       "  </thead>\n",
       "  <tbody>\n",
       "    <tr>\n",
       "      <th>0</th>\n",
       "      <td>Says Osama bin Laden endorsed Joe Biden</td>\n",
       "      <td>https://www.politifact.com/factchecks/2020/jun...</td>\n",
       "      <td>Donald Trump Jr.</td>\n",
       "      <td>June 18, 2020</td>\n",
       "      <td>June 19, 2020</td>\n",
       "      <td>FALSE</td>\n",
       "    </tr>\n",
       "    <tr>\n",
       "      <th>1</th>\n",
       "      <td>CNN aired a video of a toddler running away fr...</td>\n",
       "      <td>https://www.politifact.com/factchecks/2020/jun...</td>\n",
       "      <td>Donald Trump</td>\n",
       "      <td>June 18, 2020</td>\n",
       "      <td>June 19, 2020</td>\n",
       "      <td>FALSE</td>\n",
       "    </tr>\n",
       "    <tr>\n",
       "      <th>2</th>\n",
       "      <td>Says Tim Tebow kneeled in protest of abortion...</td>\n",
       "      <td>https://www.politifact.com/factchecks/2020/jun...</td>\n",
       "      <td>Facebook posts</td>\n",
       "      <td>June 12, 2020</td>\n",
       "      <td>June 19, 2020</td>\n",
       "      <td>FALSE</td>\n",
       "    </tr>\n",
       "    <tr>\n",
       "      <th>3</th>\n",
       "      <td>Even so-called moderate Democrats like Joe Bi...</td>\n",
       "      <td>https://www.politifact.com/factchecks/2020/jun...</td>\n",
       "      <td>Paul Junge</td>\n",
       "      <td>June 10, 2020</td>\n",
       "      <td>June 19, 2020</td>\n",
       "      <td>TRUE</td>\n",
       "    </tr>\n",
       "    <tr>\n",
       "      <th>4</th>\n",
       "      <td>\"Our health department, our city and our count...</td>\n",
       "      <td>https://www.politifact.com/factchecks/2020/jun...</td>\n",
       "      <td>Jeanette Kowalik</td>\n",
       "      <td>June 14, 2020</td>\n",
       "      <td>June 18, 2020</td>\n",
       "      <td>TRUE</td>\n",
       "    </tr>\n",
       "  </tbody>\n",
       "</table>\n",
       "</div>"
      ],
      "text/plain": [
       "                                       News_Headline  \\\n",
       "0            Says Osama bin Laden endorsed Joe Biden   \n",
       "1  CNN aired a video of a toddler running away fr...   \n",
       "2  Says Tim Tebow kneeled in protest of abortion...   \n",
       "3  Even so-called moderate Democrats like Joe Bi...   \n",
       "4  \"Our health department, our city and our count...   \n",
       "\n",
       "                                        Link_Of_News            Source  \\\n",
       "0  https://www.politifact.com/factchecks/2020/jun...  Donald Trump Jr.   \n",
       "1  https://www.politifact.com/factchecks/2020/jun...      Donald Trump   \n",
       "2  https://www.politifact.com/factchecks/2020/jun...    Facebook posts   \n",
       "3  https://www.politifact.com/factchecks/2020/jun...        Paul Junge   \n",
       "4  https://www.politifact.com/factchecks/2020/jun...  Jeanette Kowalik   \n",
       "\n",
       "        Stated_On            Date  Label  \n",
       "0   June 18, 2020   June 19, 2020  FALSE  \n",
       "1   June 18, 2020   June 19, 2020  FALSE  \n",
       "2   June 12, 2020   June 19, 2020  FALSE  \n",
       "3   June 10, 2020   June 19, 2020   TRUE  \n",
       "4   June 14, 2020   June 18, 2020   TRUE  "
      ]
     },
     "execution_count": 136,
     "metadata": {},
     "output_type": "execute_result"
    }
   ],
   "source": [
    "###Changing classification###\n",
    "\n",
    "date_df.Label[date_df.Label == 'mostly-true'] = 'TRUE'\n",
    "date_df.Label[date_df.Label == 'barely-true'] = 'TRUE'\n",
    "date_df.Label[date_df.Label == 'half-true'] = 'TRUE'\n",
    "date_df.Label[date_df.Label == 'pants-fire'] = 'FALSE'\n",
    "\n",
    "date_df.head()"
   ]
  },
  {
   "cell_type": "code",
   "execution_count": 137,
   "metadata": {},
   "outputs": [
    {
     "name": "stdout",
     "output_type": "stream",
     "text": [
      "Label\n",
      "FALSE    3675\n",
      "TRUE     6180\n",
      "dtype: int64\n"
     ]
    }
   ],
   "source": [
    "print(date_df.groupby(\"Label\").size())"
   ]
  },
  {
   "cell_type": "markdown",
   "metadata": {},
   "source": [
    "Converting categorical data **\"Label\"** to binary data."
   ]
  },
  {
   "cell_type": "code",
   "execution_count": 138,
   "metadata": {},
   "outputs": [
    {
     "data": {
      "text/html": [
       "<div>\n",
       "<style scoped>\n",
       "    .dataframe tbody tr th:only-of-type {\n",
       "        vertical-align: middle;\n",
       "    }\n",
       "\n",
       "    .dataframe tbody tr th {\n",
       "        vertical-align: top;\n",
       "    }\n",
       "\n",
       "    .dataframe thead th {\n",
       "        text-align: right;\n",
       "    }\n",
       "</style>\n",
       "<table border=\"1\" class=\"dataframe\">\n",
       "  <thead>\n",
       "    <tr style=\"text-align: right;\">\n",
       "      <th></th>\n",
       "      <th>Label</th>\n",
       "      <th>News_Headline</th>\n",
       "      <th>Link_Of_News</th>\n",
       "      <th>Source</th>\n",
       "      <th>Stated_On</th>\n",
       "      <th>Date</th>\n",
       "    </tr>\n",
       "  </thead>\n",
       "  <tbody>\n",
       "    <tr>\n",
       "      <th>0</th>\n",
       "      <td>0</td>\n",
       "      <td>Says Osama bin Laden endorsed Joe Biden</td>\n",
       "      <td>https://www.politifact.com/factchecks/2020/jun...</td>\n",
       "      <td>Donald Trump Jr.</td>\n",
       "      <td>June 18, 2020</td>\n",
       "      <td>June 19, 2020</td>\n",
       "    </tr>\n",
       "    <tr>\n",
       "      <th>1</th>\n",
       "      <td>0</td>\n",
       "      <td>CNN aired a video of a toddler running away fr...</td>\n",
       "      <td>https://www.politifact.com/factchecks/2020/jun...</td>\n",
       "      <td>Donald Trump</td>\n",
       "      <td>June 18, 2020</td>\n",
       "      <td>June 19, 2020</td>\n",
       "    </tr>\n",
       "    <tr>\n",
       "      <th>2</th>\n",
       "      <td>0</td>\n",
       "      <td>Says Tim Tebow kneeled in protest of abortion...</td>\n",
       "      <td>https://www.politifact.com/factchecks/2020/jun...</td>\n",
       "      <td>Facebook posts</td>\n",
       "      <td>June 12, 2020</td>\n",
       "      <td>June 19, 2020</td>\n",
       "    </tr>\n",
       "    <tr>\n",
       "      <th>3</th>\n",
       "      <td>1</td>\n",
       "      <td>Even so-called moderate Democrats like Joe Bi...</td>\n",
       "      <td>https://www.politifact.com/factchecks/2020/jun...</td>\n",
       "      <td>Paul Junge</td>\n",
       "      <td>June 10, 2020</td>\n",
       "      <td>June 19, 2020</td>\n",
       "    </tr>\n",
       "    <tr>\n",
       "      <th>4</th>\n",
       "      <td>1</td>\n",
       "      <td>\"Our health department, our city and our count...</td>\n",
       "      <td>https://www.politifact.com/factchecks/2020/jun...</td>\n",
       "      <td>Jeanette Kowalik</td>\n",
       "      <td>June 14, 2020</td>\n",
       "      <td>June 18, 2020</td>\n",
       "    </tr>\n",
       "  </tbody>\n",
       "</table>\n",
       "</div>"
      ],
      "text/plain": [
       "   Label                                      News_Headline  \\\n",
       "0      0            Says Osama bin Laden endorsed Joe Biden   \n",
       "1      0  CNN aired a video of a toddler running away fr...   \n",
       "2      0  Says Tim Tebow kneeled in protest of abortion...   \n",
       "3      1  Even so-called moderate Democrats like Joe Bi...   \n",
       "4      1  \"Our health department, our city and our count...   \n",
       "\n",
       "                                        Link_Of_News            Source  \\\n",
       "0  https://www.politifact.com/factchecks/2020/jun...  Donald Trump Jr.   \n",
       "1  https://www.politifact.com/factchecks/2020/jun...      Donald Trump   \n",
       "2  https://www.politifact.com/factchecks/2020/jun...    Facebook posts   \n",
       "3  https://www.politifact.com/factchecks/2020/jun...        Paul Junge   \n",
       "4  https://www.politifact.com/factchecks/2020/jun...  Jeanette Kowalik   \n",
       "\n",
       "        Stated_On            Date  \n",
       "0   June 18, 2020   June 19, 2020  \n",
       "1   June 18, 2020   June 19, 2020  \n",
       "2   June 12, 2020   June 19, 2020  \n",
       "3   June 10, 2020   June 19, 2020  \n",
       "4   June 14, 2020   June 18, 2020  "
      ]
     },
     "execution_count": 138,
     "metadata": {},
     "output_type": "execute_result"
    }
   ],
   "source": [
    "df_one = pd.get_dummies(date_df[\"Label\"])\n",
    " \n",
    "df_two = pd.concat((df_one, date_df), axis=1)\n",
    "df_two = df_two.drop([\"Label\"], axis=1)\n",
    " \n",
    "#False = 0 and True = 1 \n",
    "df_two = df_two.drop([\"FALSE\"], axis=1)\n",
    " \n",
    "#rename the Column\n",
    "date_df = df_two.rename(columns={\"TRUE\": \"Label\"})\n",
    " \n",
    "#print the Result\n",
    "date_df.head()"
   ]
  },
  {
   "cell_type": "markdown",
   "metadata": {},
   "source": [
    "## Text Pre-processing"
   ]
  },
  {
   "cell_type": "markdown",
   "metadata": {},
   "source": [
    "Befor start modeling I should clean data."
   ]
  },
  {
   "cell_type": "markdown",
   "metadata": {},
   "source": [
    "First of all I create a function which removing new newlines and tabs and replacing all **\\n,\\\\n,\\t,\\\\** with a space."
   ]
  },
  {
   "cell_type": "code",
   "execution_count": 139,
   "metadata": {},
   "outputs": [],
   "source": [
    "def remove_NewlinesTabs(text):    \n",
    "    format_text = text.replace('\\\\n', ' ').replace('\\n', ' ').replace('\\t',' ').replace('\\\\', ' ').replace('. com', '.com')\n",
    "    return format_text"
   ]
  },
  {
   "cell_type": "markdown",
   "metadata": {},
   "source": [
    "Here creating function which removing extra **WhiteSpaces** and replace extra whitespaces to one whitespace."
   ]
  },
  {
   "cell_type": "code",
   "execution_count": 140,
   "metadata": {},
   "outputs": [],
   "source": [
    "def remove_WhiteSpace(text):\n",
    "    wo = re.compile(r'\\s+')\n",
    "    wo_whitespace = re.sub(wo, ' ', text)\n",
    "    text = wo_whitespace.replace('?', ' ? ').replace(')', ') ') #bc are some instances where no space after '?' and ')'\n",
    "    return text                                                   #was decided to replace them with one space \n",
    "                                                               #so that two words do not count as one token  "
   ]
  },
  {
   "cell_type": "markdown",
   "metadata": {},
   "source": [
    "In this function we strip html tags via **BeautifulSoup**."
   ]
  },
  {
   "cell_type": "code",
   "execution_count": 141,
   "metadata": {},
   "outputs": [],
   "source": [
    "def remove_HtmlTags(text):\n",
    "    #BeautifulSoup initiating to object soup\n",
    "    soup = BeautifulSoup(text, \"html.parser\")\n",
    "    \n",
    "    #Get text without html tags\n",
    "    new_text = soup.get_text(separator=\" \")\n",
    "    return new_text"
   ]
  },
  {
   "cell_type": "markdown",
   "metadata": {},
   "source": [
    "That function remove links at the text."
   ]
  },
  {
   "cell_type": "code",
   "execution_count": 142,
   "metadata": {},
   "outputs": [],
   "source": [
    "def remove_Links(text):\n",
    "    #Removing all links that starts with https\n",
    "    wo_https = re.sub(r'http\\S+', '', text)\n",
    "    \n",
    "    #Removing all text that ends with .com\n",
    "    wo_link = re.sub(r\"\\ [A-Za-z]*\\.com\", \" \", wo_https)\n",
    "    return wo_link"
   ]
  },
  {
   "cell_type": "markdown",
   "metadata": {},
   "source": [
    "Function which remove accented characters -> replace accented characters from text to **ASCII characters**."
   ]
  },
  {
   "cell_type": "code",
   "execution_count": 143,
   "metadata": {},
   "outputs": [],
   "source": [
    "def remove_AccentCharact(text):\n",
    "    text = unidecode.unidecode(text)\n",
    "    return text"
   ]
  },
  {
   "cell_type": "markdown",
   "metadata": {},
   "source": [
    "Here creating function which convert text to lower case using function **lower()**."
   ]
  },
  {
   "cell_type": "code",
   "execution_count": 144,
   "metadata": {},
   "outputs": [],
   "source": [
    "def lower_Casing(text):\n",
    "    text = text.lower()\n",
    "    return text"
   ]
  },
  {
   "cell_type": "markdown",
   "metadata": {},
   "source": [
    "That function remove special characters."
   ]
  },
  {
   "cell_type": "code",
   "execution_count": 145,
   "metadata": {},
   "outputs": [],
   "source": [
    "def remove_SpecialCharacter(text):\n",
    "    text = re.sub('\\[[^]]*\\]', ' ', text)\n",
    "    text = re.sub('[^a-zA-Z]',' ',text)\n",
    "    return text"
   ]
  },
  {
   "cell_type": "markdown",
   "metadata": {},
   "source": [
    "Function which extand contraction words. For this I also create dictionary of contraction words. Then in function I tokenizing text into tokens. Checking if word exist in dictionary with contraction words if yes than replace that word with the key value.At the end convert from list of tokens to string."
   ]
  },
  {
   "cell_type": "code",
   "execution_count": 146,
   "metadata": {},
   "outputs": [],
   "source": [
    "CONTRACTION_WORDS = {\n",
    "\"ain't\": \"is not\",\n",
    "\"aren't\": \"are not\",\n",
    "\"can't\": \"cannot\",\n",
    "\"can't've\": \"cannot have\",\n",
    "\"'cause\": \"because\",\n",
    "\"could've\": \"could have\",\n",
    "\"couldn't\": \"could not\",\n",
    "\"couldn't've\": \"could not have\",\n",
    "\"didn't\": \"did not\",\n",
    "\"doesn't\": \"does not\",\n",
    "\"don't\": \"do not\",\n",
    "\"hadn't\": \"had not\",\n",
    "\"hadn't've\": \"had not have\",\n",
    "\"hasn't\": \"has not\",\n",
    "\"haven't\": \"have not\",\n",
    "\"he'd\": \"he would\",\n",
    "\"he'd've\": \"he would have\",\n",
    "\"he'll\": \"he will\",\n",
    "\"he'll've\": \"he he will have\",\n",
    "\"he's\": \"he is\",\n",
    "\"how'd\": \"how did\",\n",
    "\"how'd'y\": \"how do you\",\n",
    "\"how'll\": \"how will\",\n",
    "\"how's\": \"how is\",\n",
    "\"i'd\": \"i would\",\n",
    "\"i'd've\": \"i would have\",\n",
    "\"i'll\": \"i will\",\n",
    "\"i'll've\": \"i will have\",\n",
    "\"i'm\": \"i am\",\n",
    "\"i've\": \"i have\",\n",
    "\"isn't\": \"is not\",\n",
    "\"it'd\": \"it would\",\n",
    "\"it'd've\": \"it would have\",\n",
    "\"it'll\": \"it will\",\n",
    "\"it'll've\": \"it will have\",\n",
    "\"it's\": \"it is\",\n",
    "\"let's\": \"let us\",\n",
    "\"ma'am\": \"madam\",\n",
    "\"mayn't\": \"may not\",\n",
    "\"might've\": \"might have\",\n",
    "\"mightn't\": \"might not\",\n",
    "\"mightn't've\": \"might not have\",\n",
    "\"must've\": \"must have\",\n",
    "\"mustn't\": \"must not\",\n",
    "\"mustn't've\": \"must not have\",\n",
    "\"needn't\": \"need not\",\n",
    "\"needn't've\": \"need not have\",\n",
    "\"o'clock\": \"of the clock\",\n",
    "\"oughtn't\": \"ought not\",\n",
    "\"oughtn't've\": \"ought not have\",\n",
    "\"shan't\": \"shall not\",\n",
    "\"sha'n't\": \"shall not\",\n",
    "\"shan't've\": \"shall not have\",\n",
    "\"she'd\": \"she would\",\n",
    "\"she'd've\": \"she would have\",\n",
    "\"she'll\": \"she will\",\n",
    "\"she'll've\": \"she will have\",\n",
    "\"she's\": \"she is\",\n",
    "\"should've\": \"should have\",\n",
    "\"shouldn't\": \"should not\",\n",
    "\"shouldn't've\": \"should not have\",\n",
    "\"so've\": \"so have\",\n",
    "\"so's\": \"so as\",\n",
    "\"that'd\": \"that would\",\n",
    "\"that'd've\": \"that would have\",\n",
    "\"that's\": \"that is\",\n",
    "\"there'd\": \"there would\",\n",
    "\"there'd've\": \"there would have\",\n",
    "\"there's\": \"there is\",\n",
    "\"they'd\": \"they would\",\n",
    "\"they'd've\": \"they would have\",\n",
    "\"they'll\": \"they will\",\n",
    "\"they'll've\": \"they will have\",\n",
    "\"they're\": \"they are\",\n",
    "\"they've\": \"they have\",\n",
    "\"to've\": \"to have\",\n",
    "\"wasn't\": \"was not\",\n",
    "\"we'd\": \"we would\",\n",
    "\"we'd've\": \"we would have\",\n",
    "\"we'll\": \"we will\",\n",
    "\"we'll've\": \"we will have\",\n",
    "\"we're\": \"we are\",\n",
    "\"we've\": \"we have\",\n",
    "\"weren't\": \"were not\",\n",
    "\"what'll\": \"what will\",\n",
    "\"what'll've\": \"what will have\",\n",
    "\"what're\": \"what are\",\n",
    "\"what's\": \"what is\",\n",
    "\"what've\": \"what have\",\n",
    "\"when's\": \"when is\",\n",
    "\"when've\": \"when have\",\n",
    "\"where'd\": \"where did\",\n",
    "\"where's\": \"where is\",\n",
    "\"where've\": \"where have\",\n",
    "\"who'll\": \"who will\",\n",
    "\"who'll've\": \"who will have\",\n",
    "\"who's\": \"who is\",\n",
    "\"who've\": \"who have\",\n",
    "\"why's\": \"why is\",\n",
    "\"why've\": \"why have\",\n",
    "\"will've\": \"will have\",\n",
    "\"won't\": \"will not\",\n",
    "\"won't've\": \"will not have\",\n",
    "\"would've\": \"would have\",\n",
    "\"wouldn't\": \"would not\",\n",
    "\"wouldn't've\": \"would not have\",\n",
    "\"y'all\": \"you all\",\n",
    "\"y'all'd\": \"you all would\",\n",
    "\"y'all'd've\": \"you all would have\",\n",
    "\"y'all're\": \"you all are\",\n",
    "\"y'all've\": \"you all have\",\n",
    "\"you'd\": \"you would\",\n",
    "\"you'd've\": \"you would have\",\n",
    "\"you'll\": \"you will\",\n",
    "\"you'll've\": \"you will have\",\n",
    "\"you're\": \"you are\",\n",
    "\"you've\": \"you have\",\n",
    "}\n",
    "\n",
    "def extend_ContractionWord(text, contraction_words =  CONTRACTION_WORDS):\n",
    "    #text into tokens\n",
    "    tokens = text.split(' ')\n",
    "    \n",
    "    for word in tokens: \n",
    "         if word in CONTRACTION_WORDS: \n",
    "                tokens = [t.replace(word, CONTRACTION_WORDS[word]) for t in tokens]\n",
    "                \n",
    "    #from list of tokens to string\n",
    "    text = ' '.join(str(w) for w in tokens) \n",
    "    return text    "
   ]
  },
  {
   "cell_type": "markdown",
   "metadata": {},
   "source": [
    "Here using function **stopwords** I create fuction which remove stopwords from text."
   ]
  },
  {
   "cell_type": "code",
   "execution_count": 147,
   "metadata": {},
   "outputs": [],
   "source": [
    "stop_words = set(stopwords.words('english'))\n",
    "\n",
    "def remove_StopWords(text):\n",
    "    #clear text\n",
    "    wo_stop_words = [word for word in word_tokenize(text) if word.lower() not in stop_words]\n",
    "\n",
    "    #convert list of tokens to string\n",
    "    text = ' '.join(wo_stop_words)    \n",
    "    return text"
   ]
  },
  {
   "cell_type": "markdown",
   "metadata": {},
   "source": [
    "Function which checking for spellings in English language and then correct spelling."
   ]
  },
  {
   "cell_type": "code",
   "execution_count": 148,
   "metadata": {},
   "outputs": [],
   "source": [
    "def correct_Spelling(text):\n",
    "    #checking for spellings in English language\n",
    "    spelling = Speller(lang='en')\n",
    "    text = spelling(text)\n",
    "    return text"
   ]
  },
  {
   "cell_type": "markdown",
   "metadata": {},
   "source": [
    "And last function it is function for **Lemmatization**. Firstly convert words to the root form and then convert list of tokens to string."
   ]
  },
  {
   "cell_type": "code",
   "execution_count": 149,
   "metadata": {},
   "outputs": [],
   "source": [
    "lemmatizer = nltk.stem.WordNetLemmatizer()\n",
    "tokens = nltk.tokenize.WhitespaceTokenizer()\n",
    "\n",
    "def lemmatization(text):\n",
    "    #words to the root form\n",
    "    lemm_text = [lemmatizer.lemmatize(w) for w in tokens.tokenize(text)]    \n",
    "    #list of tokens to string\n",
    "    text = ' '.join(lemm_text) \n",
    "    return text"
   ]
  },
  {
   "cell_type": "markdown",
   "metadata": {},
   "source": [
    "Function to merge all previos functions."
   ]
  },
  {
   "cell_type": "code",
   "execution_count": 150,
   "metadata": {},
   "outputs": [],
   "source": [
    "def text_preproces(text, remove_accentcharact=True, extend_contractionword=True, lemmatiz = True,\n",
    "                       remove_whitespace=True, remove_newlinestabs=True,\n",
    "                       lower_casing=True,correct_spelling=True,\n",
    "                       remove_htmltags=True, remove_links=True, remove_specialcharacter=True,\n",
    "                       remove_stopwords=True):\n",
    "  \n",
    "    if remove_newlinestabs == True: \n",
    "        Data = remove_NewlinesTabs(text)\n",
    "\n",
    "    if remove_htmltags == True:\n",
    "        Data = remove_HtmlTags(Data)\n",
    "\n",
    "    if remove_links == True:\n",
    "        Data = remove_Links(Data)\n",
    "\n",
    "    if remove_accentcharact == True: \n",
    "        Data = remove_AccentCharact(Data)\n",
    "\n",
    "    if lower_casing == True:\n",
    "        Data = lower_Casing(Data)\n",
    "\n",
    "    if extend_contractionword == True:\n",
    "        Data = extend_ContractionWord(Data)\n",
    "\n",
    "    if remove_specialcharacter == True:\n",
    "        Data = remove_SpecialCharacter(Data)\n",
    "\n",
    "    stop_words = set(stopwords.words('english'))   \n",
    "    if remove_stopwords == True: \n",
    "        Data = remove_StopWords(Data)\n",
    "\n",
    "   \n",
    "    spelling = Speller(lang='en')\n",
    "    if correct_spelling == True: \n",
    "        Data = correct_Spelling(Data)\n",
    "    \n",
    "    #Converts words to lemma form\n",
    "    lemmatizer = nltk.stem.WordNetLemmatizer()\n",
    "    tokens = nltk.tokenize.WhitespaceTokenizer()  \n",
    "    if lemmatiz == True: \n",
    "        Data = lemmatization(Data)\n",
    "        \n",
    "    if remove_whitespace == True:\n",
    "        Data = remove_WhiteSpace(Data)\n",
    "       \n",
    "    return Data"
   ]
  },
  {
   "cell_type": "markdown",
   "metadata": {},
   "source": [
    "Creating new column with clear data - **New_Headline**."
   ]
  },
  {
   "cell_type": "code",
   "execution_count": 151,
   "metadata": {},
   "outputs": [],
   "source": [
    "list_news = date_df['News_Headline'].to_list()\n",
    "\n",
    "final_news = []\n",
    "full = []\n",
    "\n",
    "for a in list_news:\n",
    "    processed_news = text_preproces(a) #Cleaned text of Content attribute after pre-processing\n",
    "    final_news.append(processed_news)\n",
    "full.extend(final_news)\n",
    "\n",
    "date_df['New_Headline'] = full"
   ]
  },
  {
   "cell_type": "markdown",
   "metadata": {},
   "source": [
    "Now let's look to new column."
   ]
  },
  {
   "cell_type": "code",
   "execution_count": 152,
   "metadata": {},
   "outputs": [
    {
     "data": {
      "text/plain": [
       "0                  say obama bin laden endorsed joe biden\n",
       "1       cnn aired video toddler running away another t...\n",
       "2       say tim below needed protest abortion national...\n",
       "3       even called moderate democrat like joe biden e...\n",
       "4       health department city county declared racism ...\n",
       "                              ...                        \n",
       "9955    say obama administration plan reduce number be...\n",
       "9956    foreign intelligence surveillance court transp...\n",
       "9957    past four year u senate passed nine appropriat...\n",
       "9958    immigration reform marco rubio along saying bo...\n",
       "9959    since newton people died end gun lost afghanistan\n",
       "Name: New_Headline, Length: 9855, dtype: object"
      ]
     },
     "execution_count": 152,
     "metadata": {},
     "output_type": "execute_result"
    }
   ],
   "source": [
    "date_df['New_Headline']"
   ]
  },
  {
   "cell_type": "code",
   "execution_count": 153,
   "metadata": {
    "scrolled": true
   },
   "outputs": [
    {
     "data": {
      "text/html": [
       "<div>\n",
       "<style scoped>\n",
       "    .dataframe tbody tr th:only-of-type {\n",
       "        vertical-align: middle;\n",
       "    }\n",
       "\n",
       "    .dataframe tbody tr th {\n",
       "        vertical-align: top;\n",
       "    }\n",
       "\n",
       "    .dataframe thead th {\n",
       "        text-align: right;\n",
       "    }\n",
       "</style>\n",
       "<table border=\"1\" class=\"dataframe\">\n",
       "  <thead>\n",
       "    <tr style=\"text-align: right;\">\n",
       "      <th></th>\n",
       "      <th>Label</th>\n",
       "      <th>News_Headline</th>\n",
       "      <th>Link_Of_News</th>\n",
       "      <th>Source</th>\n",
       "      <th>Stated_On</th>\n",
       "      <th>Date</th>\n",
       "      <th>New_Headline</th>\n",
       "    </tr>\n",
       "  </thead>\n",
       "  <tbody>\n",
       "    <tr>\n",
       "      <th>0</th>\n",
       "      <td>0</td>\n",
       "      <td>Says Osama bin Laden endorsed Joe Biden</td>\n",
       "      <td>https://www.politifact.com/factchecks/2020/jun...</td>\n",
       "      <td>Donald Trump Jr.</td>\n",
       "      <td>June 18, 2020</td>\n",
       "      <td>June 19, 2020</td>\n",
       "      <td>say obama bin laden endorsed joe biden</td>\n",
       "    </tr>\n",
       "    <tr>\n",
       "      <th>1</th>\n",
       "      <td>0</td>\n",
       "      <td>CNN aired a video of a toddler running away fr...</td>\n",
       "      <td>https://www.politifact.com/factchecks/2020/jun...</td>\n",
       "      <td>Donald Trump</td>\n",
       "      <td>June 18, 2020</td>\n",
       "      <td>June 19, 2020</td>\n",
       "      <td>cnn aired video toddler running away another t...</td>\n",
       "    </tr>\n",
       "    <tr>\n",
       "      <th>2</th>\n",
       "      <td>0</td>\n",
       "      <td>Says Tim Tebow kneeled in protest of abortion...</td>\n",
       "      <td>https://www.politifact.com/factchecks/2020/jun...</td>\n",
       "      <td>Facebook posts</td>\n",
       "      <td>June 12, 2020</td>\n",
       "      <td>June 19, 2020</td>\n",
       "      <td>say tim below needed protest abortion national...</td>\n",
       "    </tr>\n",
       "    <tr>\n",
       "      <th>3</th>\n",
       "      <td>1</td>\n",
       "      <td>Even so-called moderate Democrats like Joe Bi...</td>\n",
       "      <td>https://www.politifact.com/factchecks/2020/jun...</td>\n",
       "      <td>Paul Junge</td>\n",
       "      <td>June 10, 2020</td>\n",
       "      <td>June 19, 2020</td>\n",
       "      <td>even called moderate democrat like joe biden e...</td>\n",
       "    </tr>\n",
       "    <tr>\n",
       "      <th>4</th>\n",
       "      <td>1</td>\n",
       "      <td>\"Our health department, our city and our count...</td>\n",
       "      <td>https://www.politifact.com/factchecks/2020/jun...</td>\n",
       "      <td>Jeanette Kowalik</td>\n",
       "      <td>June 14, 2020</td>\n",
       "      <td>June 18, 2020</td>\n",
       "      <td>health department city county declared racism ...</td>\n",
       "    </tr>\n",
       "  </tbody>\n",
       "</table>\n",
       "</div>"
      ],
      "text/plain": [
       "   Label                                      News_Headline  \\\n",
       "0      0            Says Osama bin Laden endorsed Joe Biden   \n",
       "1      0  CNN aired a video of a toddler running away fr...   \n",
       "2      0  Says Tim Tebow kneeled in protest of abortion...   \n",
       "3      1  Even so-called moderate Democrats like Joe Bi...   \n",
       "4      1  \"Our health department, our city and our count...   \n",
       "\n",
       "                                        Link_Of_News            Source  \\\n",
       "0  https://www.politifact.com/factchecks/2020/jun...  Donald Trump Jr.   \n",
       "1  https://www.politifact.com/factchecks/2020/jun...      Donald Trump   \n",
       "2  https://www.politifact.com/factchecks/2020/jun...    Facebook posts   \n",
       "3  https://www.politifact.com/factchecks/2020/jun...        Paul Junge   \n",
       "4  https://www.politifact.com/factchecks/2020/jun...  Jeanette Kowalik   \n",
       "\n",
       "        Stated_On            Date  \\\n",
       "0   June 18, 2020   June 19, 2020   \n",
       "1   June 18, 2020   June 19, 2020   \n",
       "2   June 12, 2020   June 19, 2020   \n",
       "3   June 10, 2020   June 19, 2020   \n",
       "4   June 14, 2020   June 18, 2020   \n",
       "\n",
       "                                        New_Headline  \n",
       "0             say obama bin laden endorsed joe biden  \n",
       "1  cnn aired video toddler running away another t...  \n",
       "2  say tim below needed protest abortion national...  \n",
       "3  even called moderate democrat like joe biden e...  \n",
       "4  health department city county declared racism ...  "
      ]
     },
     "execution_count": 153,
     "metadata": {},
     "output_type": "execute_result"
    }
   ],
   "source": [
    "date_df.head()"
   ]
  },
  {
   "cell_type": "markdown",
   "metadata": {},
   "source": [
    "**Description of text information**"
   ]
  },
  {
   "cell_type": "code",
   "execution_count": 154,
   "metadata": {
    "scrolled": true
   },
   "outputs": [
    {
     "name": "stdout",
     "output_type": "stream",
     "text": [
      "725385 words total, with a vocabulary size of 27\n",
      "Max sentence length is 293\n"
     ]
    }
   ],
   "source": [
    "all_words = [word for tokens in date_df['New_Headline'] for word in tokens]\n",
    "sentence_lengths = [len(tokens) for tokens in date_df['New_Headline']]\n",
    "\n",
    "VOCAB = sorted(list(set(all_words)))\n",
    "\n",
    "print(\"%s words total, with a vocabulary size of %s\" % (len(all_words), len(VOCAB)))\n",
    "print(\"Max sentence length is %s\" % max(sentence_lengths))"
   ]
  },
  {
   "cell_type": "markdown",
   "metadata": {},
   "source": [
    "**TOP 20 WORDS**"
   ]
  },
  {
   "cell_type": "code",
   "execution_count": 155,
   "metadata": {
    "scrolled": true
   },
   "outputs": [
    {
     "data": {
      "text/plain": [
       "say          2768\n",
       "state        1106\n",
       "year         1045\n",
       "percent       846\n",
       "trump         799\n",
       "people        774\n",
       "tax           697\n",
       "president     634\n",
       "million       569\n",
       "u             539\n",
       "american      493\n",
       "one           482\n",
       "obama         468\n",
       "said          457\n",
       "country       451\n",
       "time          443\n",
       "would         417\n",
       "new           415\n",
       "donald        390\n",
       "clinton       380\n",
       "dtype: int64"
      ]
     },
     "execution_count": 155,
     "metadata": {},
     "output_type": "execute_result"
    }
   ],
   "source": [
    "pd.Series(' '.join(date_df['New_Headline']).split()).value_counts().head(20)"
   ]
  },
  {
   "cell_type": "markdown",
   "metadata": {},
   "source": [
    "**WordCloud for News**"
   ]
  },
  {
   "cell_type": "code",
   "execution_count": 35,
   "metadata": {},
   "outputs": [
    {
     "data": {
      "image/png": "[encoded data removed]",
      "text/plain": [
       "<Figure size 864x864 with 1 Axes>"
      ]
     },
     "metadata": {},
     "output_type": "display_data"
    }
   ],
   "source": [
    "words = ' '.join(date_df['New_Headline'])\n",
    "\n",
    "wordcloud = WordCloud(\n",
    "                      background_color='black',\n",
    "                      width=3000,\n",
    "                      height=2500\n",
    "                     ).generate(words)\n",
    "plt.figure(1,figsize=(12, 12))\n",
    "plt.imshow(wordcloud)\n",
    "plt.axis('off')\n",
    "plt.title('Total Reviews Word Cloud')\n",
    "plt.show()"
   ]
  },
  {
   "cell_type": "markdown",
   "metadata": {},
   "source": [
    "**TOP 10 words for TRUE and FALSE labels**"
   ]
  },
  {
   "cell_type": "code",
   "execution_count": 36,
   "metadata": {},
   "outputs": [
    {
     "data": {
      "image/png": "[encoded data removed]",
      "text/plain": [
       "<Figure size 432x288 with 2 Axes>"
      ]
     },
     "metadata": {},
     "output_type": "display_data"
    }
   ],
   "source": [
    "tr = date_df[date_df['Label']=='TRUE']\n",
    "fls = date_df[date_df['Label']=='FALSE']\n",
    "\n",
    "plt.subplot(3, 2, 1)\n",
    "t = pd.Series(' '.join(tr['New_Headline']).split())\n",
    "t.value_counts()[:10].plot.bar() \n",
    "plt.title(\"Top 10 words used in True news\")\n",
    "\n",
    "plt.subplot(3, 2, 2)\n",
    "f = pd.Series(' '.join(fls['New_Headline']).split())\n",
    "f.value_counts()[:10].plot.bar() \n",
    "plt.title(\"Top 10 words used in False news\")\n",
    "\n",
    "plt.subplots_adjust(top=2, bottom=0, left=0, right=2, hspace=0.7, wspace=0.6)\n",
    "plt.show()"
   ]
  },
  {
   "cell_type": "markdown",
   "metadata": {},
   "source": [
    "<p>"
   ]
  },
  {
   "cell_type": "markdown",
   "metadata": {},
   "source": [
    "## Multinomial Naive Bayes Model"
   ]
  },
  {
   "cell_type": "markdown",
   "metadata": {},
   "source": [
    "**Divide dataset into training and testing sample**"
   ]
  },
  {
   "cell_type": "markdown",
   "metadata": {},
   "source": [
    "Spliting variables into a training and test set."
   ]
  },
  {
   "cell_type": "code",
   "execution_count": 37,
   "metadata": {},
   "outputs": [
    {
     "name": "stdout",
     "output_type": "stream",
     "text": [
      "(7391, 7) (7391,) (2464, 7) (2464,)\n"
     ]
    }
   ],
   "source": [
    "x_train_nb, x_test_nb, y_train_nb, y_test_nb = train_test_split(date_df, date_df.Label, test_size=0.25, random_state=0)\n",
    "\n",
    "print(x_train_nb.shape, y_train_nb.shape, x_test_nb.shape, y_test_nb.shape)"
   ]
  },
  {
   "cell_type": "markdown",
   "metadata": {},
   "source": [
    "**Vectorization**"
   ]
  },
  {
   "cell_type": "markdown",
   "metadata": {},
   "source": [
    "Now vectorize out test and train data using **CountVectorizer()**."
   ]
  },
  {
   "cell_type": "code",
   "execution_count": 38,
   "metadata": {},
   "outputs": [],
   "source": [
    "vectorizer = CountVectorizer()\n",
    "\n",
    "x_train_nb = vectorizer.fit_transform(x_train_nb['New_Headline'])\n",
    "x_test_nb = vectorizer.transform(x_test_nb['New_Headline'])"
   ]
  },
  {
   "cell_type": "markdown",
   "metadata": {},
   "source": [
    "Building the Multinominal Naive Bayes model."
   ]
  },
  {
   "cell_type": "code",
   "execution_count": 202,
   "metadata": {},
   "outputs": [
    {
     "data": {
      "text/plain": [
       "MultinomialNB()"
      ]
     },
     "execution_count": 202,
     "metadata": {},
     "output_type": "execute_result"
    }
   ],
   "source": [
    "from sklearn.metrics import accuracy_score, f1_score\n",
    "from sklearn.naive_bayes import MultinomialNB\n",
    "\n",
    "NB = MultinomialNB()\n",
    "NB.fit(x_train_nb,y_train_nb)"
   ]
  },
  {
   "cell_type": "markdown",
   "metadata": {},
   "source": [
    "**Prediction**"
   ]
  },
  {
   "cell_type": "code",
   "execution_count": 203,
   "metadata": {},
   "outputs": [],
   "source": [
    "NB_pred = NB.predict(x_test_nb)"
   ]
  },
  {
   "cell_type": "markdown",
   "metadata": {},
   "source": [
    "**Accuracy score and F1 score**"
   ]
  },
  {
   "cell_type": "code",
   "execution_count": 204,
   "metadata": {},
   "outputs": [
    {
     "name": "stdout",
     "output_type": "stream",
     "text": [
      "Accuracy of the model is equal to: 0.706\n",
      "The F1 score is 0.779.\n",
      "\n"
     ]
    }
   ],
   "source": [
    "ac_mn = accuracy_score(y_test_nb, NB_pred)\n",
    "f1 = f1_score(y_test_nb, NB_pred, pos_label='TRUE')\n",
    "\n",
    "print(\"Accuracy of the model is equal to:\",ac_mn.round(3))\n",
    "print('The F1 score is {:.3f}.\\n'.format(f1))"
   ]
  },
  {
   "cell_type": "markdown",
   "metadata": {},
   "source": [
    "**Confusion Matrix**"
   ]
  },
  {
   "cell_type": "code",
   "execution_count": 40,
   "metadata": {},
   "outputs": [
    {
     "name": "stdout",
     "output_type": "stream",
     "text": [
      "Confusion Matrix\n"
     ]
    },
    {
     "data": {
      "image/png": "[encoded data removed]",
      "text/plain": [
       "<Figure size 720x720 with 2 Axes>"
      ]
     },
     "metadata": {},
     "output_type": "display_data"
    }
   ],
   "source": [
    "from sklearn.metrics import confusion_matrix\n",
    "from mlxtend.plotting import plot_confusion_matrix\n",
    "\n",
    "print(\"Confusion Matrix\")\n",
    "CR = confusion_matrix(y_test_nb, NB_pred)\n",
    "\n",
    "fig, ax = plot_confusion_matrix(CR,figsize=(10, 10),\n",
    "                                show_absolute=True,\n",
    "                                show_normed=True,\n",
    "                                colorbar=True,\n",
    "                               class_names=['Fake', 'Real'])\n",
    "plt.show()"
   ]
  },
  {
   "cell_type": "markdown",
   "metadata": {},
   "source": [
    "**Classification report**"
   ]
  },
  {
   "cell_type": "code",
   "execution_count": 41,
   "metadata": {},
   "outputs": [
    {
     "name": "stdout",
     "output_type": "stream",
     "text": [
      "Classification report\n",
      "              precision    recall  f1-score   support\n",
      "\n",
      "       FALSE       0.65      0.49      0.56       941\n",
      "        TRUE       0.73      0.84      0.78      1523\n",
      "\n",
      "    accuracy                           0.71      2464\n",
      "   macro avg       0.69      0.67      0.67      2464\n",
      "weighted avg       0.70      0.71      0.70      2464\n",
      "\n"
     ]
    }
   ],
   "source": [
    "from sklearn.metrics import classification_report\n",
    "\n",
    "print(\"Classification report\")\n",
    "print(classification_report(y_test_nb, NB_pred))"
   ]
  },
  {
   "cell_type": "markdown",
   "metadata": {},
   "source": [
    "<p>"
   ]
  },
  {
   "cell_type": "markdown",
   "metadata": {},
   "source": [
    "## WOrd2VEC"
   ]
  },
  {
   "cell_type": "markdown",
   "metadata": {},
   "source": [
    "Words2Vec is one of the the most popular techniques for learning word embedding using a shallow neural network.\n",
    "\n",
    "The word embedding is the most popular way to represent the vocabulary of a document. It is able to capture the context of a word in a document, semantic and syntactic similarity, relationship to other words, etc."
   ]
  },
  {
   "cell_type": "markdown",
   "metadata": {},
   "source": [
    "First of all let's load libraries."
   ]
  },
  {
   "cell_type": "code",
   "execution_count": 42,
   "metadata": {},
   "outputs": [],
   "source": [
    "import gensim\n",
    "from gensim.models import Word2Vec\n",
    "import keras\n",
    "from keras.preprocessing.text import Tokenizer\n",
    "import numpy as np"
   ]
  },
  {
   "cell_type": "markdown",
   "metadata": {},
   "source": [
    "I was creating 2 new variables. First one **l** include data about Labels(1 for True, and 0 for False), and second one **text** with news headline."
   ]
  },
  {
   "cell_type": "code",
   "execution_count": 156,
   "metadata": {},
   "outputs": [],
   "source": [
    "l = date_df['Label'].values\n",
    "\n",
    "text = [w.split() for w in date_df['New_Headline'].tolist()]"
   ]
  },
  {
   "cell_type": "code",
   "execution_count": 157,
   "metadata": {},
   "outputs": [
    {
     "data": {
      "text/plain": [
       "list"
      ]
     },
     "execution_count": 157,
     "metadata": {},
     "output_type": "execute_result"
    }
   ],
   "source": [
    "type(text)"
   ]
  },
  {
   "cell_type": "markdown",
   "metadata": {},
   "source": [
    "In next step creating Word Vectors by **Word2Vec** method."
   ]
  },
  {
   "cell_type": "code",
   "execution_count": 158,
   "metadata": {},
   "outputs": [],
   "source": [
    "#Dimension of vectors we are generating\n",
    "DIM = 200\n",
    "\n",
    "w2v_model = gensim.models.Word2Vec(sentences = text,\n",
    "                                    vector_size = DIM,\n",
    "                                  window = 10,\n",
    "                                  min_count = 1)"
   ]
  },
  {
   "cell_type": "code",
   "execution_count": 159,
   "metadata": {},
   "outputs": [
    {
     "data": {
      "text/plain": [
       "9654"
      ]
     },
     "execution_count": 159,
     "metadata": {},
     "output_type": "execute_result"
    }
   ],
   "source": [
    "#vocab size\n",
    "len(w2v_model.wv.key_to_index)"
   ]
  },
  {
   "cell_type": "markdown",
   "metadata": {},
   "source": [
    "Now having represented each of 9654 words by a 200dim vector."
   ]
  },
  {
   "cell_type": "markdown",
   "metadata": {},
   "source": [
    "Lets checkout these vectors."
   ]
  },
  {
   "cell_type": "code",
   "execution_count": 160,
   "metadata": {
    "scrolled": false
   },
   "outputs": [
    {
     "data": {
      "text/plain": [
       "{'say': 0,\n",
       " 'state': 1,\n",
       " 'year': 2,\n",
       " 'percent': 3,\n",
       " 'trump': 4,\n",
       " 'people': 5,\n",
       " 'tax': 6,\n",
       " 'president': 7,\n",
       " 'million': 8,\n",
       " 'u': 9,\n",
       " 'american': 10,\n",
       " 'one': 11,\n",
       " 'obama': 12,\n",
       " 'said': 13,\n",
       " 'country': 14,\n",
       " 'time': 15,\n",
       " 'would': 16,\n",
       " 'new': 17,\n",
       " 'donald': 18,\n",
       " 'clinton': 19,\n",
       " 'job': 20,\n",
       " 'bill': 21,\n",
       " 'every': 22,\n",
       " 'health': 23,\n",
       " 'law': 24,\n",
       " 'school': 25,\n",
       " 'republican': 26,\n",
       " 'billion': 27,\n",
       " 'united': 28,\n",
       " 'texas': 29,\n",
       " 'since': 30,\n",
       " 'rate': 31,\n",
       " 'care': 32,\n",
       " 'hillary': 33,\n",
       " 'last': 34,\n",
       " 'get': 35,\n",
       " 'voted': 36,\n",
       " 'wisconsin': 37,\n",
       " 'woman': 38,\n",
       " 'gun': 39,\n",
       " 'show': 40,\n",
       " 'city': 41,\n",
       " 'medical': 42,\n",
       " 'first': 43,\n",
       " 'democrat': 44,\n",
       " 'cut': 45,\n",
       " 'even': 46,\n",
       " 'government': 47,\n",
       " 'right': 48,\n",
       " 'child': 49,\n",
       " 'money': 50,\n",
       " 'florida': 51,\n",
       " 'obamacare': 52,\n",
       " 'pay': 53,\n",
       " 'america': 54,\n",
       " 'federal': 55,\n",
       " 'two': 56,\n",
       " 'vote': 57,\n",
       " 'house': 58,\n",
       " 'illegal': 59,\n",
       " 'barack': 60,\n",
       " 'day': 61,\n",
       " 'want': 62,\n",
       " 'nation': 63,\n",
       " 'go': 64,\n",
       " 'going': 65,\n",
       " 'number': 66,\n",
       " 'family': 67,\n",
       " 'border': 68,\n",
       " 'make': 69,\n",
       " 'dollar': 70,\n",
       " 'world': 71,\n",
       " 'like': 72,\n",
       " 'cost': 73,\n",
       " 'election': 74,\n",
       " 'senate': 75,\n",
       " 'plan': 76,\n",
       " 'public': 77,\n",
       " 'white': 78,\n",
       " 'budget': 79,\n",
       " 'average': 80,\n",
       " 'immigrant': 81,\n",
       " 'administration': 82,\n",
       " 'insurance': 83,\n",
       " 'never': 84,\n",
       " 'congress': 85,\n",
       " 'california': 86,\n",
       " 'scott': 87,\n",
       " 'many': 88,\n",
       " 'increase': 89,\n",
       " 'coronavirus': 90,\n",
       " 'crime': 91,\n",
       " 'support': 92,\n",
       " 'business': 93,\n",
       " 'national': 94,\n",
       " 'office': 95,\n",
       " 'three': 96,\n",
       " 'income': 97,\n",
       " 'county': 98,\n",
       " 'campaign': 99,\n",
       " 'got': 100,\n",
       " 'company': 101,\n",
       " 'governor': 102,\n",
       " 'take': 103,\n",
       " 'act': 104,\n",
       " 'candidate': 105,\n",
       " 'history': 106,\n",
       " 'security': 107,\n",
       " 'nearly': 108,\n",
       " 'could': 109,\n",
       " 'back': 110,\n",
       " 'student': 111,\n",
       " 'death': 112,\n",
       " 'photo': 113,\n",
       " 'le': 114,\n",
       " 'gov': 115,\n",
       " 'actually': 116,\n",
       " 'wage': 117,\n",
       " 'program': 118,\n",
       " 'north': 119,\n",
       " 'per': 120,\n",
       " 'high': 121,\n",
       " 'highest': 122,\n",
       " 'dont': 123,\n",
       " 'today': 124,\n",
       " 'paid': 125,\n",
       " 'york': 126,\n",
       " 'half': 127,\n",
       " 'voter': 128,\n",
       " 'four': 129,\n",
       " 'black': 130,\n",
       " 'abortion': 131,\n",
       " 'court': 132,\n",
       " 'home': 133,\n",
       " 'almost': 134,\n",
       " 'work': 135,\n",
       " 'ever': 136,\n",
       " 'sen': 137,\n",
       " 'funding': 138,\n",
       " 'made': 139,\n",
       " 'month': 140,\n",
       " 'come': 141,\n",
       " 'georgia': 142,\n",
       " 'police': 143,\n",
       " 'worker': 144,\n",
       " 'deal': 145,\n",
       " 'took': 146,\n",
       " 'know': 147,\n",
       " 'five': 148,\n",
       " 'passed': 149,\n",
       " 'virginia': 150,\n",
       " 'college': 151,\n",
       " 'record': 152,\n",
       " 'change': 153,\n",
       " 'china': 154,\n",
       " 'department': 155,\n",
       " 'rep': 156,\n",
       " 'single': 157,\n",
       " 'joe': 158,\n",
       " 'saying': 159,\n",
       " 'immigration': 160,\n",
       " 'raise': 161,\n",
       " 'military': 162,\n",
       " 'covid': 163,\n",
       " 'use': 164,\n",
       " 'fund': 165,\n",
       " 'drug': 166,\n",
       " 'killed': 167,\n",
       " 'spending': 168,\n",
       " 'democratic': 169,\n",
       " 'without': 170,\n",
       " 'put': 171,\n",
       " 'social': 172,\n",
       " 'walker': 173,\n",
       " 'life': 174,\n",
       " 'member': 175,\n",
       " 'lost': 176,\n",
       " 'give': 177,\n",
       " 'taxpayer': 178,\n",
       " 'party': 179,\n",
       " 'war': 180,\n",
       " 'way': 181,\n",
       " 'education': 182,\n",
       " 'used': 183,\n",
       " 'much': 184,\n",
       " 'free': 185,\n",
       " 'policy': 186,\n",
       " 'case': 187,\n",
       " 'still': 188,\n",
       " 'iran': 189,\n",
       " 'sander': 190,\n",
       " 'terrorist': 191,\n",
       " 'thousand': 192,\n",
       " 'debt': 193,\n",
       " 'largest': 194,\n",
       " 'unemployment': 195,\n",
       " 'water': 196,\n",
       " 'went': 197,\n",
       " 'already': 198,\n",
       " 'private': 199,\n",
       " 'carolina': 200,\n",
       " 'system': 201,\n",
       " 'higher': 202,\n",
       " 'fact': 203,\n",
       " 'thing': 204,\n",
       " 'check': 205,\n",
       " 'man': 206,\n",
       " 'shooting': 207,\n",
       " 'population': 208,\n",
       " 'george': 209,\n",
       " 'hour': 210,\n",
       " 'week': 211,\n",
       " 'third': 212,\n",
       " 'away': 213,\n",
       " 'muslim': 214,\n",
       " 'called': 215,\n",
       " 'minimum': 216,\n",
       " 'ago': 217,\n",
       " 'citizen': 218,\n",
       " 'spent': 219,\n",
       " 'past': 220,\n",
       " 'control': 221,\n",
       " 'wall': 222,\n",
       " 'men': 223,\n",
       " 'criminal': 224,\n",
       " 'second': 225,\n",
       " 'john': 226,\n",
       " 'general': 227,\n",
       " 'biden': 228,\n",
       " 'middle': 229,\n",
       " 'old': 230,\n",
       " 'marijuana': 231,\n",
       " 'bernie': 232,\n",
       " 'order': 233,\n",
       " 'attack': 234,\n",
       " 'level': 235,\n",
       " 'working': 236,\n",
       " 'university': 237,\n",
       " 'getting': 238,\n",
       " 'austin': 239,\n",
       " 'top': 240,\n",
       " 'part': 241,\n",
       " 'lowest': 242,\n",
       " 'report': 243,\n",
       " 'trillion': 244,\n",
       " 'growth': 245,\n",
       " 'african': 246,\n",
       " 'russia': 247,\n",
       " 'supported': 248,\n",
       " 'need': 249,\n",
       " 'th': 250,\n",
       " 'missouri': 251,\n",
       " 'majority': 252,\n",
       " 'senator': 253,\n",
       " 'came': 254,\n",
       " 'point': 255,\n",
       " 'term': 256,\n",
       " 'economy': 257,\n",
       " 'veteran': 258,\n",
       " 'let': 259,\n",
       " 'condition': 260,\n",
       " 'murder': 261,\n",
       " 'created': 262,\n",
       " 'ban': 263,\n",
       " 'service': 264,\n",
       " 'thats': 265,\n",
       " 'help': 266,\n",
       " 'teacher': 267,\n",
       " 'trade': 268,\n",
       " 'force': 269,\n",
       " 'weapon': 270,\n",
       " 'keep': 271,\n",
       " 'left': 272,\n",
       " 'found': 273,\n",
       " 'were': 274,\n",
       " 'peso': 275,\n",
       " 'gas': 276,\n",
       " 'bush': 277,\n",
       " 'making': 278,\n",
       " 'obamas': 279,\n",
       " 'supreme': 280,\n",
       " 'think': 281,\n",
       " 'isi': 282,\n",
       " 'nancy': 283,\n",
       " 'mexico': 284,\n",
       " 'rick': 285,\n",
       " 'washington': 286,\n",
       " 'milwaukee': 287,\n",
       " 'person': 288,\n",
       " 'district': 289,\n",
       " 'low': 290,\n",
       " 'voting': 291,\n",
       " 'six': 292,\n",
       " 'mayor': 293,\n",
       " 'poverty': 294,\n",
       " 'theyre': 295,\n",
       " 'kid': 296,\n",
       " 'food': 297,\n",
       " 'gave': 298,\n",
       " 'affordable': 299,\n",
       " 'planned': 300,\n",
       " 'nuclear': 301,\n",
       " 'prison': 302,\n",
       " 'group': 303,\n",
       " 'around': 304,\n",
       " 'seen': 305,\n",
       " 'done': 306,\n",
       " 'street': 307,\n",
       " 'next': 308,\n",
       " 'legal': 309,\n",
       " 'decade': 310,\n",
       " 'including': 311,\n",
       " 'nothing': 312,\n",
       " 'buy': 313,\n",
       " 'pre': 314,\n",
       " 'place': 315,\n",
       " 'mean': 316,\n",
       " 'news': 317,\n",
       " 'class': 318,\n",
       " 'there': 319,\n",
       " 'poll': 320,\n",
       " 'benefit': 321,\n",
       " 'proposed': 322,\n",
       " 'among': 323,\n",
       " 'amendment': 324,\n",
       " 'secretary': 325,\n",
       " 'refugee': 326,\n",
       " 'coverage': 327,\n",
       " 'arrested': 328,\n",
       " 'car': 329,\n",
       " 'community': 330,\n",
       " 'increased': 331,\n",
       " 'human': 332,\n",
       " 'employee': 333,\n",
       " 'property': 334,\n",
       " 'least': 335,\n",
       " 'economic': 336,\n",
       " 'see': 337,\n",
       " 'across': 338,\n",
       " 'legislation': 339,\n",
       " 'power': 340,\n",
       " 'background': 341,\n",
       " 'quote': 342,\n",
       " 'big': 343,\n",
       " 'young': 344,\n",
       " 'small': 345,\n",
       " 'call': 346,\n",
       " 'allow': 347,\n",
       " 'end': 348,\n",
       " 'west': 349,\n",
       " 'look': 350,\n",
       " 'climate': 351,\n",
       " 'flag': 352,\n",
       " 'recent': 353,\n",
       " 'coming': 354,\n",
       " 'ted': 355,\n",
       " 'presidential': 356,\n",
       " 'eight': 357,\n",
       " 'congressional': 358,\n",
       " 'former': 359,\n",
       " 'island': 360,\n",
       " 'deficit': 361,\n",
       " 'baby': 362,\n",
       " 'union': 363,\n",
       " 'hundred': 364,\n",
       " 'officer': 365,\n",
       " 'official': 366,\n",
       " 'ohio': 367,\n",
       " 'run': 368,\n",
       " 'major': 369,\n",
       " 'lot': 370,\n",
       " 'rule': 371,\n",
       " 'raised': 372,\n",
       " 'able': 373,\n",
       " 'hospital': 374,\n",
       " 'signed': 375,\n",
       " 'kill': 376,\n",
       " 'air': 377,\n",
       " 'existing': 378,\n",
       " 'taken': 379,\n",
       " 'virus': 380,\n",
       " 'industry': 381,\n",
       " 'cant': 382,\n",
       " 'rubio': 383,\n",
       " 'reagan': 384,\n",
       " 'justice': 385,\n",
       " 'foundation': 386,\n",
       " 'long': 387,\n",
       " 'fbi': 388,\n",
       " 'lower': 389,\n",
       " 'best': 390,\n",
       " 'study': 391,\n",
       " 'didnt': 392,\n",
       " 'issue': 393,\n",
       " 'likely': 394,\n",
       " 'parenthood': 395,\n",
       " 'executive': 396,\n",
       " 'due': 397,\n",
       " 'illinois': 398,\n",
       " 'charge': 399,\n",
       " 'paying': 400,\n",
       " 'died': 401,\n",
       " 'violence': 402,\n",
       " 'also': 403,\n",
       " 'sex': 404,\n",
       " 'attorney': 405,\n",
       " 'well': 406,\n",
       " 'protection': 407,\n",
       " 'alien': 408,\n",
       " 'born': 409,\n",
       " 'spend': 410,\n",
       " 'video': 411,\n",
       " 'mike': 412,\n",
       " 'debate': 413,\n",
       " 'far': 414,\n",
       " 'iraq': 415,\n",
       " 'individual': 416,\n",
       " 'using': 417,\n",
       " 'break': 418,\n",
       " 'told': 419,\n",
       " 'stop': 420,\n",
       " 'entire': 421,\n",
       " 'age': 422,\n",
       " 'aid': 423,\n",
       " 'dead': 424,\n",
       " 'resident': 425,\n",
       " 'full': 426,\n",
       " 'leader': 427,\n",
       " 'board': 428,\n",
       " 'claim': 429,\n",
       " 'zero': 430,\n",
       " 'real': 431,\n",
       " 'reform': 432,\n",
       " 'allowed': 433,\n",
       " 'elected': 434,\n",
       " 'action': 435,\n",
       " 'oil': 436,\n",
       " 'rhode': 437,\n",
       " 'illegally': 438,\n",
       " 'seven': 439,\n",
       " 'open': 440,\n",
       " 'fire': 441,\n",
       " 'better': 442,\n",
       " 'cruz': 443,\n",
       " 'line': 444,\n",
       " 'mass': 445,\n",
       " 'anti': 446,\n",
       " 'violent': 447,\n",
       " 'trying': 448,\n",
       " 'investigation': 449,\n",
       " 'fraud': 450,\n",
       " 'russian': 451,\n",
       " 'face': 452,\n",
       " 'believe': 453,\n",
       " 'south': 454,\n",
       " 'given': 455,\n",
       " 'local': 456,\n",
       " 'according': 457,\n",
       " 'political': 458,\n",
       " 'may': 459,\n",
       " 'center': 460,\n",
       " 'result': 461,\n",
       " 'marco': 462,\n",
       " 'id': 463,\n",
       " 'worst': 464,\n",
       " 'email': 465,\n",
       " 'chicago': 466,\n",
       " 'senior': 467,\n",
       " 'judge': 468,\n",
       " 'close': 469,\n",
       " 'ice': 470,\n",
       " 'released': 471,\n",
       " 'led': 472,\n",
       " 'hand': 473,\n",
       " 'amount': 474,\n",
       " 'sign': 475,\n",
       " 'doctor': 476,\n",
       " 'assault': 477,\n",
       " 'doesnt': 478,\n",
       " 'medium': 479,\n",
       " 'combined': 480,\n",
       " 'breaking': 481,\n",
       " 'premium': 482,\n",
       " 'fired': 483,\n",
       " 'david': 484,\n",
       " 'living': 485,\n",
       " 'cent': 486,\n",
       " 'cancer': 487,\n",
       " 'access': 488,\n",
       " 'syria': 489,\n",
       " 'revenue': 490,\n",
       " 'gop': 491,\n",
       " 'primary': 492,\n",
       " 'gone': 493,\n",
       " 'test': 494,\n",
       " 'stay': 495,\n",
       " 'massive': 496,\n",
       " 'something': 497,\n",
       " 'leave': 498,\n",
       " 'stand': 499,\n",
       " 'earth': 500,\n",
       " 'he': 501,\n",
       " 'die': 502,\n",
       " 'mark': 503,\n",
       " 'team': 504,\n",
       " 'victim': 505,\n",
       " 'energy': 506,\n",
       " 'started': 507,\n",
       " 'received': 508,\n",
       " 'lead': 509,\n",
       " 'agreement': 510,\n",
       " 'cause': 511,\n",
       " 'sent': 512,\n",
       " 'birth': 513,\n",
       " 'wanted': 514,\n",
       " 'k': 515,\n",
       " 'islamic': 516,\n",
       " 'special': 517,\n",
       " 'sexual': 518,\n",
       " 'foreign': 519,\n",
       " 'parent': 520,\n",
       " 'great': 521,\n",
       " 'live': 522,\n",
       " 'twice': 523,\n",
       " 'taking': 524,\n",
       " 'data': 525,\n",
       " 'ronald': 526,\n",
       " 'vaccine': 527,\n",
       " 'johnson': 528,\n",
       " 'area': 529,\n",
       " 'risk': 530,\n",
       " 'total': 531,\n",
       " 'paul': 532,\n",
       " 'forced': 533,\n",
       " 'running': 534,\n",
       " 'park': 535,\n",
       " 'alone': 536,\n",
       " 'sale': 537,\n",
       " 'sort': 538,\n",
       " 'current': 539,\n",
       " 'defense': 540,\n",
       " 'everyone': 541,\n",
       " 'caught': 542,\n",
       " 'fewer': 543,\n",
       " 'find': 544,\n",
       " 'problem': 545,\n",
       " 'lose': 546,\n",
       " 'name': 547,\n",
       " 'tried': 548,\n",
       " 'crisis': 549,\n",
       " 'salary': 550,\n",
       " 'congressman': 551,\n",
       " 'biggest': 552,\n",
       " 'patient': 553,\n",
       " 'must': 554,\n",
       " 'matter': 555,\n",
       " 'list': 556,\n",
       " 'someone': 557,\n",
       " 'credit': 558,\n",
       " 'rape': 559,\n",
       " 'sanctuary': 560,\n",
       " 'asked': 561,\n",
       " 'building': 562,\n",
       " 'impeachment': 563,\n",
       " 'meeting': 564,\n",
       " 'dropped': 565,\n",
       " 'hurricane': 566,\n",
       " 'pas': 567,\n",
       " 'little': 568,\n",
       " 'proposal': 569,\n",
       " 'firearm': 570,\n",
       " 'patrick': 571,\n",
       " 'held': 572,\n",
       " 'enough': 573,\n",
       " 'different': 574,\n",
       " 'ten': 575,\n",
       " 'interest': 576,\n",
       " 'tuition': 577,\n",
       " 'san': 578,\n",
       " 'graduation': 579,\n",
       " 'scheme': 580,\n",
       " 'rating': 581,\n",
       " 'bring': 582,\n",
       " 'changed': 583,\n",
       " 'tell': 584,\n",
       " 'nominee': 585,\n",
       " 'behind': 586,\n",
       " 'driver': 587,\n",
       " 'good': 588,\n",
       " 'liberal': 589,\n",
       " 'yet': 590,\n",
       " 'become': 591,\n",
       " 'financial': 592,\n",
       " 'effort': 593,\n",
       " 'dan': 594,\n",
       " 'shot': 595,\n",
       " 'price': 596,\n",
       " 'land': 597,\n",
       " 'ron': 598,\n",
       " 'anything': 599,\n",
       " 'set': 600,\n",
       " 'double': 601,\n",
       " 'caput': 602,\n",
       " 'position': 603,\n",
       " 'troop': 604,\n",
       " 'relief': 605,\n",
       " 'ukraine': 606,\n",
       " 'longer': 607,\n",
       " 'marriage': 608,\n",
       " 'percentage': 609,\n",
       " 'opposed': 610,\n",
       " 'shut': 611,\n",
       " 'speech': 612,\n",
       " 'really': 613,\n",
       " 'bengali': 614,\n",
       " 'require': 615,\n",
       " 'committed': 616,\n",
       " 'undocumented': 617,\n",
       " 'michigan': 618,\n",
       " 'constitution': 619,\n",
       " 'market': 620,\n",
       " 'within': 621,\n",
       " 'save': 622,\n",
       " 'banned': 623,\n",
       " 'migrant': 624,\n",
       " 'bank': 625,\n",
       " 'fight': 626,\n",
       " 'housing': 627,\n",
       " 'household': 628,\n",
       " 'beta': 629,\n",
       " 'sell': 630,\n",
       " 'median': 631,\n",
       " 'word': 632,\n",
       " 'red': 633,\n",
       " 'includes': 634,\n",
       " 'worked': 635,\n",
       " 'decision': 636,\n",
       " 'supporter': 637,\n",
       " 'youre': 638,\n",
       " 'growing': 639,\n",
       " 'return': 640,\n",
       " 'hit': 641,\n",
       " 'suicide': 642,\n",
       " 'girl': 643,\n",
       " 'anyone': 644,\n",
       " 'c': 645,\n",
       " 'committee': 646,\n",
       " 'either': 647,\n",
       " 'pandemic': 648,\n",
       " 'start': 649,\n",
       " 'road': 650,\n",
       " 'standard': 651,\n",
       " 'ive': 652,\n",
       " 'another': 653,\n",
       " 'poor': 654,\n",
       " 'wealth': 655,\n",
       " 'personal': 656,\n",
       " 'authority': 657,\n",
       " 'gay': 658,\n",
       " 'holding': 659,\n",
       " 'chris': 660,\n",
       " 'jail': 661,\n",
       " 'related': 662,\n",
       " 'hispanic': 663,\n",
       " 'employer': 664,\n",
       " 'penny': 665,\n",
       " 'citizenship': 666,\n",
       " 'looking': 667,\n",
       " 'owner': 668,\n",
       " 'nine': 669,\n",
       " 'send': 670,\n",
       " 'funded': 671,\n",
       " 'israel': 672,\n",
       " 'covered': 673,\n",
       " 'build': 674,\n",
       " 'win': 675,\n",
       " 'coal': 676,\n",
       " 'race': 677,\n",
       " 'recently': 678,\n",
       " 'mother': 679,\n",
       " 'trans': 680,\n",
       " 'pro': 681,\n",
       " 'tony': 682,\n",
       " 'game': 683,\n",
       " 'failed': 684,\n",
       " 'large': 685,\n",
       " 'im': 686,\n",
       " 'expansion': 687,\n",
       " 'cnn': 688,\n",
       " 'n': 689,\n",
       " 'tom': 690,\n",
       " 'license': 691,\n",
       " 'charlie': 692,\n",
       " 'syrian': 693,\n",
       " 'fox': 694,\n",
       " 'ballot': 695,\n",
       " 'roughly': 696,\n",
       " 'refused': 697,\n",
       " 'korea': 698,\n",
       " 'stamp': 699,\n",
       " 'seat': 700,\n",
       " 'project': 701,\n",
       " 'al': 702,\n",
       " 'cortex': 703,\n",
       " 'organization': 704,\n",
       " 'create': 705,\n",
       " 'compared': 706,\n",
       " 'saw': 707,\n",
       " 'stopped': 708,\n",
       " 'minute': 709,\n",
       " 'uninsured': 710,\n",
       " 'brown': 711,\n",
       " 'crest': 712,\n",
       " 'turned': 713,\n",
       " 'regulation': 714,\n",
       " 'post': 715,\n",
       " 'body': 716,\n",
       " 'helped': 717,\n",
       " 'enforcement': 718,\n",
       " 'canada': 719,\n",
       " 'leadership': 720,\n",
       " 'protect': 721,\n",
       " 'kind': 722,\n",
       " 'always': 723,\n",
       " 'carry': 724,\n",
       " 'global': 725,\n",
       " 'facebook': 726,\n",
       " 'corporation': 727,\n",
       " 'became': 728,\n",
       " 'welfare': 729,\n",
       " 'turn': 730,\n",
       " 'wrote': 731,\n",
       " 'visa': 732,\n",
       " 'reason': 733,\n",
       " 'son': 734,\n",
       " 'book': 735,\n",
       " 'question': 736,\n",
       " 'manufacturing': 737,\n",
       " 'announced': 738,\n",
       " 'loan': 739,\n",
       " 'giving': 740,\n",
       " 'together': 741,\n",
       " 'agency': 742,\n",
       " 'bottom': 743,\n",
       " 'southern': 744,\n",
       " 'flu': 745,\n",
       " 'chief': 746,\n",
       " 'wealthy': 747,\n",
       " 'product': 748,\n",
       " 'side': 749,\n",
       " 'michael': 750,\n",
       " 'room': 751,\n",
       " 'arrest': 752,\n",
       " 'evidence': 753,\n",
       " 'town': 754,\n",
       " 'w': 755,\n",
       " 'built': 756,\n",
       " 'non': 757,\n",
       " 'common': 758,\n",
       " 'charged': 759,\n",
       " 'provide': 760,\n",
       " 'reduced': 761,\n",
       " 'hate': 762,\n",
       " 'lie': 763,\n",
       " 'nobody': 764,\n",
       " 'hampshire': 765,\n",
       " 'early': 766,\n",
       " 'adam': 767,\n",
       " 'opposes': 768,\n",
       " 'receive': 769,\n",
       " 'homeless': 770,\n",
       " 'mile': 771,\n",
       " 'else': 772,\n",
       " 'killing': 773,\n",
       " 'christian': 774,\n",
       " 'jeb': 775,\n",
       " 'mask': 776,\n",
       " 'talking': 777,\n",
       " 'raising': 778,\n",
       " 'based': 779,\n",
       " 'michelle': 780,\n",
       " 'career': 781,\n",
       " 'rally': 782,\n",
       " 'colorado': 783,\n",
       " 'oregon': 784,\n",
       " 'hiv': 785,\n",
       " 'information': 786,\n",
       " 'maine': 787,\n",
       " 'adult': 788,\n",
       " 'bad': 789,\n",
       " 'hard': 790,\n",
       " 'endorsed': 791,\n",
       " 'reported': 792,\n",
       " 'mandate': 793,\n",
       " 'grade': 794,\n",
       " 'roy': 795,\n",
       " 'research': 796,\n",
       " 'grant': 797,\n",
       " 'nevada': 798,\n",
       " 'lawmaker': 799,\n",
       " 'account': 800,\n",
       " 'head': 801,\n",
       " 'clear': 802,\n",
       " 'measure': 803,\n",
       " 'closed': 804,\n",
       " 'period': 805,\n",
       " 'favor': 806,\n",
       " 'rank': 807,\n",
       " 'chinese': 808,\n",
       " 'bruce': 809,\n",
       " 'terrorism': 810,\n",
       " 'folk': 811,\n",
       " 'issued': 812,\n",
       " 'currently': 813,\n",
       " 'testing': 814,\n",
       " 'atlanta': 815,\n",
       " 'watch': 816,\n",
       " 'strike': 817,\n",
       " 'basic': 818,\n",
       " 'pennsylvania': 819,\n",
       " 'anybody': 820,\n",
       " 'nra': 821,\n",
       " 'orourke': 822,\n",
       " 'protester': 823,\n",
       " 'probably': 824,\n",
       " 'contribution': 825,\n",
       " 'eliminate': 826,\n",
       " 'travel': 827,\n",
       " 'domestic': 828,\n",
       " 'basically': 829,\n",
       " 'legislature': 830,\n",
       " 'supporting': 831,\n",
       " 'worth': 832,\n",
       " 'saudi': 833,\n",
       " 'move': 834,\n",
       " 'andrew': 835,\n",
       " 'clean': 836,\n",
       " 'plane': 837,\n",
       " 'ceo': 838,\n",
       " 'doubled': 839,\n",
       " 'super': 840,\n",
       " 'couple': 841,\n",
       " 'machine': 842,\n",
       " 'prescription': 843,\n",
       " 'threat': 844,\n",
       " 'gate': 845,\n",
       " 'known': 846,\n",
       " 'internet': 847,\n",
       " 'begin': 848,\n",
       " 'broke': 849,\n",
       " 'occasion': 850,\n",
       " 'release': 851,\n",
       " 'whether': 852,\n",
       " 'sector': 853,\n",
       " 'repeal': 854,\n",
       " 'stock': 855,\n",
       " 'driving': 856,\n",
       " 'conservative': 857,\n",
       " 'pension': 858,\n",
       " 'fastest': 859,\n",
       " 'basis': 860,\n",
       " 'politician': 861,\n",
       " 'reduce': 862,\n",
       " 'homicide': 863,\n",
       " 'ad': 864,\n",
       " 'true': 865,\n",
       " 'phone': 866,\n",
       " 'approval': 867,\n",
       " 'convicted': 868,\n",
       " 'store': 869,\n",
       " 'opponent': 870,\n",
       " 'near': 871,\n",
       " 'corporate': 872,\n",
       " 'card': 873,\n",
       " 'form': 874,\n",
       " 'gotten': 875,\n",
       " 'mexican': 876,\n",
       " 'caused': 877,\n",
       " 'green': 878,\n",
       " 'warren': 879,\n",
       " 'door': 880,\n",
       " 'st': 881,\n",
       " 'minority': 882,\n",
       " 'cash': 883,\n",
       " 'outside': 884,\n",
       " 'amnesty': 885,\n",
       " 'civil': 886,\n",
       " 'plant': 887,\n",
       " 'cutting': 888,\n",
       " 'estimated': 889,\n",
       " 'quarter': 890,\n",
       " 'refuse': 891,\n",
       " 'friend': 892,\n",
       " 'tweeted': 893,\n",
       " 'farmer': 894,\n",
       " 'thanks': 895,\n",
       " 'romney': 896,\n",
       " 'cover': 897,\n",
       " 'leading': 898,\n",
       " 'saved': 899,\n",
       " 'father': 900,\n",
       " 'workforce': 901,\n",
       " 'wife': 902,\n",
       " 'wearing': 903,\n",
       " 'brother': 904,\n",
       " 'allowing': 905,\n",
       " 'night': 906,\n",
       " 'international': 907,\n",
       " 'story': 908,\n",
       " 'tim': 909,\n",
       " 'registered': 910,\n",
       " 'felony': 911,\n",
       " 'va': 912,\n",
       " 'net': 913,\n",
       " 'leaving': 914,\n",
       " 'staff': 915,\n",
       " 'dangerous': 916,\n",
       " 'row': 917,\n",
       " 'hearing': 918,\n",
       " 'sold': 919,\n",
       " 'hasn': 920,\n",
       " 'popular': 921,\n",
       " 'koch': 922,\n",
       " 'image': 923,\n",
       " 'independent': 924,\n",
       " 'additional': 925,\n",
       " 'elizabeth': 926,\n",
       " 'penalty': 927,\n",
       " 'indiana': 928,\n",
       " 'event': 929,\n",
       " 'address': 930,\n",
       " 'arm': 931,\n",
       " 'faster': 932,\n",
       " 'possible': 933,\n",
       " 'worse': 934,\n",
       " 'process': 935,\n",
       " 'exchange': 936,\n",
       " 'completely': 937,\n",
       " 'moving': 938,\n",
       " 'cdc': 939,\n",
       " 'isnt': 940,\n",
       " 'instead': 941,\n",
       " 'belief': 942,\n",
       " 'minnesota': 943,\n",
       " 'convention': 944,\n",
       " 'profit': 945,\n",
       " 'safety': 946,\n",
       " 'remove': 947,\n",
       " 'march': 948,\n",
       " 'steve': 949,\n",
       " 'kennedy': 950,\n",
       " 'payment': 951,\n",
       " 'disease': 952,\n",
       " 'jersey': 953,\n",
       " 'creation': 954,\n",
       " 'previous': 955,\n",
       " 'director': 956,\n",
       " 'grown': 957,\n",
       " 'despite': 958,\n",
       " 'required': 959,\n",
       " 'el': 960,\n",
       " 'rise': 961,\n",
       " 'bridge': 962,\n",
       " 'richard': 963,\n",
       " 'fighting': 964,\n",
       " 'pacific': 965,\n",
       " 'f': 966,\n",
       " 'simply': 967,\n",
       " 'sponsored': 968,\n",
       " 'later': 969,\n",
       " 'session': 970,\n",
       " 'language': 971,\n",
       " 'mcconnell': 972,\n",
       " 'involved': 973,\n",
       " 'losing': 974,\n",
       " 'try': 975,\n",
       " 'fee': 976,\n",
       " 'along': 977,\n",
       " 'alexandria': 978,\n",
       " 'female': 979,\n",
       " 'idea': 980,\n",
       " 'starting': 981,\n",
       " 'removed': 982,\n",
       " 'pot': 983,\n",
       " 'speaker': 984,\n",
       " 'carbon': 985,\n",
       " 'expanded': 986,\n",
       " 'request': 987,\n",
       " 'drop': 988,\n",
       " 'slave': 989,\n",
       " 'nfl': 990,\n",
       " 'harry': 991,\n",
       " 'decided': 992,\n",
       " 'confirmed': 993,\n",
       " 'opioid': 994,\n",
       " 'slavery': 995,\n",
       " 'responsible': 996,\n",
       " 'option': 997,\n",
       " 'patrol': 998,\n",
       " 'permit': 999,\n",
       " ...}"
      ]
     },
     "execution_count": 160,
     "metadata": {},
     "output_type": "execute_result"
    }
   ],
   "source": [
    "w2v_model.wv.key_to_index"
   ]
  },
  {
   "cell_type": "markdown",
   "metadata": {},
   "source": [
    "Also we can see similar words for word from data."
   ]
  },
  {
   "cell_type": "code",
   "execution_count": 161,
   "metadata": {},
   "outputs": [
    {
     "data": {
      "text/plain": [
       "[('water', 0.999924898147583),\n",
       " ('use', 0.9999198913574219),\n",
       " ('case', 0.9999159574508667),\n",
       " ('found', 0.9999157190322876),\n",
       " ('back', 0.999914288520813),\n",
       " ('covid', 0.9999131560325623),\n",
       " ('home', 0.999908447265625),\n",
       " ('part', 0.999908447265625),\n",
       " ('car', 0.9999070167541504),\n",
       " ('life', 0.9999041557312012)]"
      ]
     },
     "execution_count": 161,
     "metadata": {},
     "output_type": "execute_result"
    }
   ],
   "source": [
    "w2v_model.wv.most_similar('china')"
   ]
  },
  {
   "cell_type": "code",
   "execution_count": 162,
   "metadata": {
    "scrolled": true
   },
   "outputs": [
    {
     "data": {
      "text/plain": [
       "[('president', 0.99773108959198),\n",
       " ('obama', 0.9967207312583923),\n",
       " ('say', 0.9957536458969116),\n",
       " ('said', 0.9950141906738281),\n",
       " ('impeachment', 0.9935949444770813),\n",
       " ('elect', 0.9934890866279602),\n",
       " ('melanie', 0.9931319952011108),\n",
       " ('former', 0.9929168820381165),\n",
       " ('bin', 0.9927230477333069),\n",
       " ('impeach', 0.9926881194114685)]"
      ]
     },
     "execution_count": 162,
     "metadata": {},
     "output_type": "execute_result"
    }
   ],
   "source": [
    "w2v_model.wv.most_similar('trump')"
   ]
  },
  {
   "cell_type": "markdown",
   "metadata": {},
   "source": [
    "Cannot pass string words to embedding layer, thus need some way to represent each words by numbers.\n",
    "\n",
    "Tokenizer can represent each word by number.\n",
    "\n",
    "I used **Tokenizer()** function."
   ]
  },
  {
   "cell_type": "code",
   "execution_count": 163,
   "metadata": {},
   "outputs": [],
   "source": [
    "tokenizer = Tokenizer()\n",
    "tokenizer.fit_on_texts(text)"
   ]
  },
  {
   "cell_type": "code",
   "execution_count": 164,
   "metadata": {},
   "outputs": [],
   "source": [
    "text = tokenizer.texts_to_sequences(text)"
   ]
  },
  {
   "cell_type": "markdown",
   "metadata": {},
   "source": [
    "Checking how much words in each news headline."
   ]
  },
  {
   "cell_type": "code",
   "execution_count": 165,
   "metadata": {
    "scrolled": true
   },
   "outputs": [
    {
     "data": {
      "image/png": "[encoded data removed]",
      "text/plain": [
       "<Figure size 432x288 with 1 Axes>"
      ]
     },
     "metadata": {},
     "output_type": "display_data"
    }
   ],
   "source": [
    "plt.hist([len(t) for t in text], bins = 15)\n",
    "plt.show()"
   ]
  },
  {
   "cell_type": "markdown",
   "metadata": {},
   "source": [
    "As we can see on histogram for number of words in news shows that most news headlines are under 20 words."
   ]
  },
  {
   "cell_type": "markdown",
   "metadata": {},
   "source": [
    "<p>"
   ]
  },
  {
   "cell_type": "markdown",
   "metadata": {},
   "source": [
    "**Padding embedded news**"
   ]
  },
  {
   "cell_type": "markdown",
   "metadata": {},
   "source": [
    "Let's keep all news to 20, add padding to news with less than 20 words and truncating long ones."
   ]
  },
  {
   "cell_type": "code",
   "execution_count": 166,
   "metadata": {},
   "outputs": [
    {
     "name": "stdout",
     "output_type": "stream",
     "text": [
      "[[   0    0    0 ...  787  159  229]\n",
      " [   0  676 3723 ...  815   37    5]\n",
      " [   0    0    0 ... 3724 1200   11]\n",
      " ...\n",
      " [   0    0    0 ...  653 4431   22]\n",
      " [   0    0    0 ...   84   36  183]\n",
      " [   0    0    0 ...   40  176 1066]]\n"
     ]
    }
   ],
   "source": [
    "max_len = 20\n",
    "\n",
    "#Padding the sentences\n",
    "text = pad_sequences(text, padding = 'pre', maxlen = max_len)\n",
    "\n",
    "print(text)"
   ]
  },
  {
   "cell_type": "markdown",
   "metadata": {},
   "source": [
    "We can see all the sentences are of equal length with the addition of zeros in front of the sentences and making all the sentences of length 20."
   ]
  },
  {
   "cell_type": "code",
   "execution_count": 195,
   "metadata": {},
   "outputs": [],
   "source": [
    "#adding 1 because of reserved 0 index\n",
    "\n",
    "v_size = len(tokenizer.word_index) + 1\n",
    "vocab = tokenizer.word_index"
   ]
  },
  {
   "cell_type": "markdown",
   "metadata": {},
   "source": [
    "Function to create weight matrix from **Word2Vec** model."
   ]
  },
  {
   "cell_type": "code",
   "execution_count": 168,
   "metadata": {},
   "outputs": [],
   "source": [
    "def weight_matrix(m):\n",
    "    weight_mx = np.zeros((v_size, DIM))\n",
    "    \n",
    "    for w, i in vocab.items():\n",
    "        weight_mx[i] = m.wv[w]\n",
    "    return weight_mx"
   ]
  },
  {
   "cell_type": "markdown",
   "metadata": {},
   "source": [
    "Obtaining embedding vectors from **Word2Vec** and using them as weights of the unlearned keras embedding layer."
   ]
  },
  {
   "cell_type": "code",
   "execution_count": 169,
   "metadata": {},
   "outputs": [],
   "source": [
    "embed_vec = weight_matrix(w2v_model)"
   ]
  },
  {
   "cell_type": "code",
   "execution_count": 170,
   "metadata": {},
   "outputs": [
    {
     "data": {
      "text/plain": [
       "(9655, 200)"
      ]
     },
     "execution_count": 170,
     "metadata": {},
     "output_type": "execute_result"
    }
   ],
   "source": [
    "embed_vec.shape"
   ]
  },
  {
   "cell_type": "markdown",
   "metadata": {},
   "source": [
    "<p>"
   ]
  },
  {
   "cell_type": "markdown",
   "metadata": {},
   "source": [
    "## LSTM"
   ]
  },
  {
   "cell_type": "markdown",
   "metadata": {},
   "source": [
    "Loading libraries."
   ]
  },
  {
   "cell_type": "code",
   "execution_count": 171,
   "metadata": {},
   "outputs": [],
   "source": [
    "from tensorflow.keras.models import Sequential\n",
    "from tensorflow.keras.layers import Embedding\n",
    "from tensorflow.keras.preprocessing.sequence import pad_sequences\n",
    "from tensorflow.keras.models import Sequential\n",
    "from tensorflow.keras.preprocessing.text import one_hot\n",
    "from tensorflow.keras.layers import LSTM\n",
    "from tensorflow.keras.layers import Bidirectional\n",
    "from tensorflow.keras.layers import Dense\n",
    "from tensorflow.keras.layers import Dropout"
   ]
  },
  {
   "cell_type": "markdown",
   "metadata": {},
   "source": [
    "**Creating the LSTM model**"
   ]
  },
  {
   "cell_type": "code",
   "execution_count": 172,
   "metadata": {},
   "outputs": [
    {
     "name": "stdout",
     "output_type": "stream",
     "text": [
      "Model: \"sequential_4\"\n",
      "_________________________________________________________________\n",
      "Layer (type)                 Output Shape              Param #   \n",
      "=================================================================\n",
      "embedding_2 (Embedding)      (None, 20, 40)            386200    \n",
      "_________________________________________________________________\n",
      "dropout_2 (Dropout)          (None, 20, 40)            0         \n",
      "_________________________________________________________________\n",
      "lstm_1 (LSTM)                (None, 100)               56400     \n",
      "_________________________________________________________________\n",
      "dropout_3 (Dropout)          (None, 100)               0         \n",
      "_________________________________________________________________\n",
      "dense_1 (Dense)              (None, 1)                 101       \n",
      "=================================================================\n",
      "Total params: 442,701\n",
      "Trainable params: 442,701\n",
      "Non-trainable params: 0\n",
      "_________________________________________________________________\n",
      "None\n"
     ]
    }
   ],
   "source": [
    "embedding_vector_features = 40\n",
    "\n",
    "lstm_m = Sequential()\n",
    "#Non-trainable embeddidng layer\n",
    "lstm_m.add(Embedding(v_size, embedding_vector_features, input_length = max_len))\n",
    "lstm_m.add(Dropout(0.3))\n",
    "lstm_m.add(LSTM(100)) #Adding 100 lstm neurons in the layer\n",
    "lstm_m.add(Dropout(0.3))\n",
    "lstm_m.add(Dense(1, activation='sigmoid'))\n",
    "\n",
    "lstm_m.compile(loss='binary_crossentropy',optimizer='adam',metrics=['accuracy'])\n",
    "print(lstm_m.summary())"
   ]
  },
  {
   "cell_type": "markdown",
   "metadata": {},
   "source": [
    "**Train test splitting**"
   ]
  },
  {
   "cell_type": "code",
   "execution_count": 173,
   "metadata": {},
   "outputs": [],
   "source": [
    "X_final=np.array(text)\n",
    "y_final=np.array(l)"
   ]
  },
  {
   "cell_type": "code",
   "execution_count": 174,
   "metadata": {},
   "outputs": [
    {
     "data": {
      "text/plain": [
       "((6898, 20), (2957, 20), (6898,), (2957,))"
      ]
     },
     "execution_count": 174,
     "metadata": {},
     "output_type": "execute_result"
    }
   ],
   "source": [
    "X_train, X_test, y_train, y_test = train_test_split(X_final, y_final, test_size=0.3, random_state = 42)\n",
    "\n",
    "X_train.shape, X_test.shape, y_train.shape, y_test.shape"
   ]
  },
  {
   "cell_type": "markdown",
   "metadata": {},
   "source": [
    "Fitting with 10 epochs and 32 batch size."
   ]
  },
  {
   "cell_type": "code",
   "execution_count": 175,
   "metadata": {},
   "outputs": [
    {
     "name": "stdout",
     "output_type": "stream",
     "text": [
      "Epoch 1/10\n",
      "216/216 [==============================] - 6s 18ms/step - loss: 0.6330 - accuracy: 0.6518 - val_loss: 0.5795 - val_accuracy: 0.7031\n",
      "Epoch 2/10\n",
      "216/216 [==============================] - 3s 15ms/step - loss: 0.4967 - accuracy: 0.7685 - val_loss: 0.6047 - val_accuracy: 0.6990\n",
      "Epoch 3/10\n",
      "216/216 [==============================] - 3s 16ms/step - loss: 0.3877 - accuracy: 0.8305 - val_loss: 0.7024 - val_accuracy: 0.6804\n",
      "Epoch 4/10\n",
      "216/216 [==============================] - 3s 16ms/step - loss: 0.2947 - accuracy: 0.8803 - val_loss: 0.7209 - val_accuracy: 0.6730\n",
      "Epoch 5/10\n",
      "216/216 [==============================] - 4s 18ms/step - loss: 0.2267 - accuracy: 0.9124 - val_loss: 0.7911 - val_accuracy: 0.6720\n",
      "Epoch 6/10\n",
      "216/216 [==============================] - 4s 19ms/step - loss: 0.1669 - accuracy: 0.9384 - val_loss: 0.9358 - val_accuracy: 0.6781\n",
      "Epoch 7/10\n",
      "216/216 [==============================] - 4s 19ms/step - loss: 0.1273 - accuracy: 0.9524 - val_loss: 1.1996 - val_accuracy: 0.6554\n",
      "Epoch 8/10\n",
      "216/216 [==============================] - 4s 21ms/step - loss: 0.1008 - accuracy: 0.9654 - val_loss: 1.3195 - val_accuracy: 0.6534\n",
      "Epoch 9/10\n",
      "216/216 [==============================] - 5s 21ms/step - loss: 0.0816 - accuracy: 0.9704 - val_loss: 1.5225 - val_accuracy: 0.6615\n",
      "Epoch 10/10\n",
      "216/216 [==============================] - 4s 20ms/step - loss: 0.0661 - accuracy: 0.9755 - val_loss: 1.4828 - val_accuracy: 0.6615\n"
     ]
    },
    {
     "data": {
      "text/plain": [
       "<keras.callbacks.History at 0x1c7820117c0>"
      ]
     },
     "execution_count": 175,
     "metadata": {},
     "output_type": "execute_result"
    }
   ],
   "source": [
    "lstm_m.fit(X_train, y_train, validation_data=(X_test,y_test),epochs = 10, batch_size=32)"
   ]
  },
  {
   "cell_type": "markdown",
   "metadata": {},
   "source": [
    "**Prediction**"
   ]
  },
  {
   "cell_type": "code",
   "execution_count": 180,
   "metadata": {},
   "outputs": [],
   "source": [
    "lstm_pred = (lstm_m.predict(X_test) > 0.5).astype(\"int32\")"
   ]
  },
  {
   "cell_type": "markdown",
   "metadata": {},
   "source": [
    "**Accuracy of the model**"
   ]
  },
  {
   "cell_type": "code",
   "execution_count": 199,
   "metadata": {},
   "outputs": [
    {
     "name": "stdout",
     "output_type": "stream",
     "text": [
      "Accuracy of the LSTM model is equal to: 0.6614812309773419\n"
     ]
    }
   ],
   "source": [
    "acc_lstm = accuracy_score(y_test,lstm_pred)\n",
    "\n",
    "print(\"Accuracy of the LSTM model is equal to:\",acc_lstm)"
   ]
  },
  {
   "cell_type": "markdown",
   "metadata": {},
   "source": [
    "**Confusion Matrix**"
   ]
  },
  {
   "cell_type": "code",
   "execution_count": 182,
   "metadata": {},
   "outputs": [
    {
     "name": "stdout",
     "output_type": "stream",
     "text": [
      "Confusion Matrix\n"
     ]
    },
    {
     "data": {
      "image/png": "[encoded data removed]",
      "text/plain": [
       "<Figure size 720x720 with 2 Axes>"
      ]
     },
     "metadata": {},
     "output_type": "display_data"
    }
   ],
   "source": [
    "print(\"Confusion Matrix\")\n",
    "CR = confusion_matrix(y_test, lstm_pred)\n",
    "\n",
    "fig, ax = plot_confusion_matrix(CR,figsize=(10, 10),\n",
    "                                show_absolute=True,\n",
    "                                show_normed=True,\n",
    "                                colorbar=True,\n",
    "                               class_names=['Fake', 'Real'])\n",
    "plt.show()"
   ]
  },
  {
   "cell_type": "markdown",
   "metadata": {},
   "source": [
    "**Classification report**"
   ]
  },
  {
   "cell_type": "code",
   "execution_count": 183,
   "metadata": {},
   "outputs": [
    {
     "name": "stdout",
     "output_type": "stream",
     "text": [
      "Classification report\n",
      "              precision    recall  f1-score   support\n",
      "\n",
      "           0       0.53      0.51      0.52      1068\n",
      "           1       0.73      0.75      0.74      1889\n",
      "\n",
      "    accuracy                           0.66      2957\n",
      "   macro avg       0.63      0.63      0.63      2957\n",
      "weighted avg       0.66      0.66      0.66      2957\n",
      "\n"
     ]
    }
   ],
   "source": [
    "# Creating classification report \n",
    "print(\"Classification report\")\n",
    "print(classification_report(y_test, lstm_pred))"
   ]
  },
  {
   "cell_type": "markdown",
   "metadata": {},
   "source": [
    "## Bidirectional LSTM"
   ]
  },
  {
   "cell_type": "markdown",
   "metadata": {},
   "source": [
    "**Creating the Bi-LSTM model**"
   ]
  },
  {
   "cell_type": "code",
   "execution_count": 185,
   "metadata": {},
   "outputs": [
    {
     "name": "stdout",
     "output_type": "stream",
     "text": [
      "Model: \"sequential_6\"\n",
      "_________________________________________________________________\n",
      "Layer (type)                 Output Shape              Param #   \n",
      "=================================================================\n",
      "embedding_4 (Embedding)      (None, 20, 40)            386200    \n",
      "_________________________________________________________________\n",
      "bidirectional_1 (Bidirection (None, 200)               112800    \n",
      "_________________________________________________________________\n",
      "dropout_5 (Dropout)          (None, 200)               0         \n",
      "_________________________________________________________________\n",
      "dense_3 (Dense)              (None, 1)                 201       \n",
      "=================================================================\n",
      "Total params: 499,201\n",
      "Trainable params: 499,201\n",
      "Non-trainable params: 0\n",
      "_________________________________________________________________\n",
      "None\n"
     ]
    }
   ],
   "source": [
    "# Creating bidirectional lstm model\n",
    "embedding_vector_features = 40\n",
    "\n",
    "lstm_bi=Sequential()\n",
    "lstm_bi.add(Embedding(v_size, embedding_vector_features, input_length = max_len))\n",
    "lstm_bi.add(Bidirectional(LSTM(100))) # Bidirectional LSTM layer\n",
    "lstm_bi.add(Dropout(0.3))\n",
    "lstm_bi.add(Dense(1,activation='sigmoid'))\n",
    "lstm_bi.compile(loss='binary_crossentropy',optimizer='adam',metrics=['accuracy'])\n",
    "print(lstm_bi.summary())"
   ]
  },
  {
   "cell_type": "markdown",
   "metadata": {},
   "source": [
    "Fitting with 10 epochs and 32 batch size."
   ]
  },
  {
   "cell_type": "code",
   "execution_count": 196,
   "metadata": {},
   "outputs": [
    {
     "name": "stdout",
     "output_type": "stream",
     "text": [
      "Epoch 1/10\n",
      "216/216 [==============================] - 5s 24ms/step - loss: 0.0093 - accuracy: 0.9974 - val_loss: 2.9774 - val_accuracy: 0.6578\n",
      "Epoch 2/10\n",
      "216/216 [==============================] - 5s 24ms/step - loss: 0.0457 - accuracy: 0.9839 - val_loss: 1.9520 - val_accuracy: 0.6486\n",
      "Epoch 3/10\n",
      "216/216 [==============================] - 6s 27ms/step - loss: 0.0253 - accuracy: 0.9899 - val_loss: 2.2117 - val_accuracy: 0.6459\n",
      "Epoch 4/10\n",
      "216/216 [==============================] - 6s 26ms/step - loss: 0.0227 - accuracy: 0.9922 - val_loss: 2.1469 - val_accuracy: 0.6520\n",
      "Epoch 5/10\n",
      "216/216 [==============================] - 6s 26ms/step - loss: 0.0101 - accuracy: 0.9970 - val_loss: 2.4532 - val_accuracy: 0.6480\n",
      "Epoch 6/10\n",
      "216/216 [==============================] - 6s 26ms/step - loss: 0.0086 - accuracy: 0.9978 - val_loss: 2.5021 - val_accuracy: 0.6557\n",
      "Epoch 7/10\n",
      "216/216 [==============================] - 6s 28ms/step - loss: 0.0034 - accuracy: 0.9991 - val_loss: 2.8201 - val_accuracy: 0.6429\n",
      "Epoch 8/10\n",
      "216/216 [==============================] - 6s 26ms/step - loss: 0.0016 - accuracy: 0.9999 - val_loss: 3.2815 - val_accuracy: 0.6490\n",
      "Epoch 9/10\n",
      "216/216 [==============================] - 6s 26ms/step - loss: 5.2414e-04 - accuracy: 0.9999 - val_loss: 3.3368 - val_accuracy: 0.6493\n",
      "Epoch 10/10\n",
      "216/216 [==============================] - 6s 26ms/step - loss: 2.4723e-04 - accuracy: 1.0000 - val_loss: 3.5564 - val_accuracy: 0.6483\n"
     ]
    },
    {
     "data": {
      "text/plain": [
       "<keras.callbacks.History at 0x1c787817640>"
      ]
     },
     "execution_count": 196,
     "metadata": {},
     "output_type": "execute_result"
    }
   ],
   "source": [
    "lstm_bi.fit(X_train, y_train, validation_data=(X_test,y_test),epochs = 10, batch_size=32)"
   ]
  },
  {
   "cell_type": "markdown",
   "metadata": {},
   "source": [
    "**Prediction**"
   ]
  },
  {
   "cell_type": "code",
   "execution_count": 192,
   "metadata": {},
   "outputs": [],
   "source": [
    "lstm_bi_pred = (lstm_bi.predict(X_test) > 0.5).astype(\"int32\")"
   ]
  },
  {
   "cell_type": "markdown",
   "metadata": {},
   "source": [
    "**Accuracy score**"
   ]
  },
  {
   "cell_type": "code",
   "execution_count": 198,
   "metadata": {},
   "outputs": [
    {
     "name": "stdout",
     "output_type": "stream",
     "text": [
      "Accuracy of the LSTM model is equal to: 0.6520121745011837\n"
     ]
    }
   ],
   "source": [
    "acc_bi = accuracy_score(y_test,lstm_bi_pred)\n",
    "\n",
    "print(\"Accuracy of the LSTM model is equal to:\",acc_bi)"
   ]
  },
  {
   "cell_type": "markdown",
   "metadata": {},
   "source": [
    "**Confusion matrix**"
   ]
  },
  {
   "cell_type": "code",
   "execution_count": 189,
   "metadata": {},
   "outputs": [
    {
     "name": "stdout",
     "output_type": "stream",
     "text": [
      "Confusion Matrix\n"
     ]
    },
    {
     "data": {
      "image/png": "[encoded data removed]",
      "text/plain": [
       "<Figure size 720x720 with 2 Axes>"
      ]
     },
     "metadata": {},
     "output_type": "display_data"
    }
   ],
   "source": [
    "print(\"Confusion Matrix\")\n",
    "CR = confusion_matrix(y_test, lstm_bi_pred)\n",
    "\n",
    "fig, ax = plot_confusion_matrix(CR,figsize=(10, 10),\n",
    "                                show_absolute=True,\n",
    "                                show_normed=True,\n",
    "                                colorbar=True,\n",
    "                               class_names=['Fake', 'Real'])\n",
    "plt.show()"
   ]
  },
  {
   "cell_type": "markdown",
   "metadata": {},
   "source": [
    "**Classification report**"
   ]
  },
  {
   "cell_type": "code",
   "execution_count": 190,
   "metadata": {},
   "outputs": [
    {
     "name": "stdout",
     "output_type": "stream",
     "text": [
      "Classification report\n",
      "              precision    recall  f1-score   support\n",
      "\n",
      "           0       0.53      0.49      0.51      1068\n",
      "           1       0.72      0.75      0.74      1889\n",
      "\n",
      "    accuracy                           0.66      2957\n",
      "   macro avg       0.63      0.62      0.62      2957\n",
      "weighted avg       0.65      0.66      0.66      2957\n",
      "\n"
     ]
    }
   ],
   "source": [
    "print(\"Classification report\")\n",
    "print(classification_report(y_test, lstm_bi_pred))"
   ]
  },
  {
   "cell_type": "markdown",
   "metadata": {},
   "source": [
    "## Summary and Conclution"
   ]
  },
  {
   "cell_type": "code",
   "execution_count": 206,
   "metadata": {},
   "outputs": [
    {
     "data": {
      "text/html": [
       "<div>\n",
       "<style scoped>\n",
       "    .dataframe tbody tr th:only-of-type {\n",
       "        vertical-align: middle;\n",
       "    }\n",
       "\n",
       "    .dataframe tbody tr th {\n",
       "        vertical-align: top;\n",
       "    }\n",
       "\n",
       "    .dataframe thead th {\n",
       "        text-align: right;\n",
       "    }\n",
       "</style>\n",
       "<table border=\"1\" class=\"dataframe\">\n",
       "  <thead>\n",
       "    <tr style=\"text-align: right;\">\n",
       "      <th></th>\n",
       "      <th>Accuracy</th>\n",
       "    </tr>\n",
       "  </thead>\n",
       "  <tbody>\n",
       "    <tr>\n",
       "      <th>Multinomial Naive Bayes Model</th>\n",
       "      <td>0.706169</td>\n",
       "    </tr>\n",
       "    <tr>\n",
       "      <th>LSTM model</th>\n",
       "      <td>0.661481</td>\n",
       "    </tr>\n",
       "    <tr>\n",
       "      <th>Bi-LSTM model</th>\n",
       "      <td>0.652012</td>\n",
       "    </tr>\n",
       "  </tbody>\n",
       "</table>\n",
       "</div>"
      ],
      "text/plain": [
       "                               Accuracy\n",
       "Multinomial Naive Bayes Model  0.706169\n",
       "LSTM model                     0.661481\n",
       "Bi-LSTM model                  0.652012"
      ]
     },
     "execution_count": 206,
     "metadata": {},
     "output_type": "execute_result"
    }
   ],
   "source": [
    "# make a dictionary with all the results\n",
    "res = {\n",
    "           'Multinomial Naive Bayes Model': ac_mn,\n",
    "           'LSTM model': acc_lstm,\n",
    "           'Bi-LSTM model': acc_bi,       \n",
    "          }\n",
    "\n",
    "res_df = pd.DataFrame.from_dict(res, orient='index', \n",
    "                                           columns=['Accuracy'])\n",
    "res_df"
   ]
  },
  {
   "cell_type": "markdown",
   "metadata": {},
   "source": [
    "Looking at **accuracy score** and comparing each other I can say that the best model is Multinomial Naive Bayes Model so it has the highest value."
   ]
  },
  {
   "cell_type": "markdown",
   "metadata": {},
   "source": [
    "<p>"
   ]
  },
  {
   "cell_type": "markdown",
   "metadata": {},
   "source": [
    "## Sources"
   ]
  },
  {
   "cell_type": "markdown",
   "metadata": {},
   "source": [
    "https://www.kaggle.com/techykajal/fakereal-news\n",
    "https://data-flair.training/blogs/advanced-python-project-detecting-fake-news/\n",
    "https://www.kaggle.com/chelseabrk/fake-news-detection-detailed-explanations/notebook\n",
    "https://www.analyticsvidhya.com/blog/2021/07/detecting-fake-news-with-natural-language-processing/#h2_2\n",
    "https://towardsdatascience.com/how-i-created-a-fake-news-detector-with-python-65b1234123c4\n",
    "https://www.hindawi.com/journals/complexity/2021/5557784/\n",
    "https://www.hindawi.com/journals/complexity/2020/8885861/#materials-and-methods\n",
    "https://www.kaggle.com/mitramir5/nlp-visualization-eda-glove#Prediction-with-RidgeClassifier,-NaiveBayes,-LinearSVM"
   ]
  }
 ],
 "metadata": {
  "kernelspec": {
   "display_name": "Python 3",
   "language": "python",
   "name": "python3"
  },
  "language_info": {
   "codemirror_mode": {
    "name": "ipython",
    "version": 3
   },
   "file_extension": ".py",
   "mimetype": "text/x-python",
   "name": "python",
   "nbconvert_exporter": "python",
   "pygments_lexer": "ipython3",
   "version": "3.8.3"
  }
 },
 "nbformat": 4,
 "nbformat_minor": 4
}
